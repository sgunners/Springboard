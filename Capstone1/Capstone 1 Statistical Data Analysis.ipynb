{
 "cells": [
  {
   "cell_type": "markdown",
   "metadata": {},
   "source": [
    "# Capstone 1 Statistical Data Analysis"
   ]
  },
  {
   "cell_type": "markdown",
   "metadata": {},
   "source": [
    "### Recode the data set to prep for this round"
   ]
  },
  {
   "cell_type": "code",
   "execution_count": 1,
   "metadata": {},
   "outputs": [],
   "source": [
    "#import necessary packages\n",
    "import pandas as pd\n",
    "import numpy as np\n",
    "import matplotlib.pyplot as plt\n",
    "import seaborn as sns\n",
    "from scipy import stats\n",
    "from statsmodels.stats.multicomp import pairwise_tukeyhsd\n",
    "from statsmodels.stats.multicomp import MultiComparison"
   ]
  },
  {
   "cell_type": "code",
   "execution_count": 2,
   "metadata": {},
   "outputs": [],
   "source": [
    "#import in data\n",
    "url = 'https://archive.ics.uci.edu/ml/machine-learning-databases/00272/SkillCraft1_Dataset.csv'\n",
    "\n",
    "base = pd.read_csv(url)"
   ]
  },
  {
   "cell_type": "code",
   "execution_count": 3,
   "metadata": {},
   "outputs": [],
   "source": [
    "#change the columns with numeric values to numeric (specifically Age,\n",
    "# HoursPerWeek, and TotalHours)\n",
    "base['Age']=pd.to_numeric(base['Age'], errors = 'coerce')\n",
    "base['HoursPerWeek']=pd.to_numeric(base['HoursPerWeek'], errors = 'coerce')\n",
    "base['TotalHours']=pd.to_numeric(base['TotalHours'], errors = 'coerce')"
   ]
  },
  {
   "cell_type": "code",
   "execution_count": 4,
   "metadata": {},
   "outputs": [],
   "source": [
    "#clean only outliers, keeping the NaNs of the pro subset\n",
    "base2 = base.set_index('TotalHours')\n",
    "base2 = base2.drop(1000000, axis=0)\n",
    "base2 = base2.reset_index()\n",
    "#remove Gap Betweeb PACs outlier\n",
    "base2 = base2.set_index('GapBetweenPACs')\n",
    "base2 = base2.drop(237.142900, axis=0)\n",
    "base2 = base2.reset_index()"
   ]
  },
  {
   "cell_type": "markdown",
   "metadata": {},
   "source": [
    "## Begin systematically working through the data set using ANVOA, comparing the pros to the rest of the data set on a per variable basis"
   ]
  },
  {
   "cell_type": "markdown",
   "metadata": {},
   "source": [
    "#### Pros vs. All: APM"
   ]
  },
  {
   "cell_type": "code",
   "execution_count": 5,
   "metadata": {},
   "outputs": [
    {
     "data": {
      "text/plain": [
       "(438.7621400179222, 0.0)"
      ]
     },
     "execution_count": 5,
     "metadata": {},
     "output_type": "execute_result"
    }
   ],
   "source": [
    "f_APM, p_APM = stats.f_oneway(base2[base2['LeagueIndex']==1].APM,\n",
    "                              base2[base2['LeagueIndex']==2].APM,\n",
    "                              base2[base2['LeagueIndex']==3].APM,\n",
    "                              base2[base2['LeagueIndex']==4].APM,\n",
    "                              base2[base2['LeagueIndex']==5].APM,\n",
    "                              base2[base2['LeagueIndex']==6].APM,\n",
    "                              base2[base2['LeagueIndex']==7].APM,\n",
    "                              base2[base2['LeagueIndex']==8].APM)\n",
    "f_APM, p_APM"
   ]
  },
  {
   "cell_type": "markdown",
   "metadata": {},
   "source": [
    "since it is significant, will perform tukey range test"
   ]
  },
  {
   "cell_type": "code",
   "execution_count": 6,
   "metadata": {},
   "outputs": [
    {
     "name": "stdout",
     "output_type": "stream",
     "text": [
      " Multiple Comparison of Means - Tukey HSD, FWER=0.05 \n",
      "=====================================================\n",
      "group1 group2 meandiff p-adj  lower    upper   reject\n",
      "-----------------------------------------------------\n",
      "     1      2  15.1078 0.001   4.3482  25.8673   True\n",
      "     1      3  30.2981 0.001  20.2078  40.3884   True\n",
      "     1      4   46.174 0.001  36.4614  55.8867   True\n",
      "     1      5  71.6613 0.001  61.9425  81.3801   True\n",
      "     1      6  99.0101 0.001  89.0481  108.972   True\n",
      "     1      7 129.8825 0.001 108.6762 151.0888   True\n",
      "     1      8 207.6681 0.001 189.9296 225.4065   True\n",
      "     2      3  15.1903 0.001   7.3822  22.9985   True\n",
      "     2      4  31.0662 0.001  23.7526  38.3799   True\n",
      "     2      5  56.5536 0.001  49.2318  63.8754   True\n",
      "     2      6  83.9023 0.001  76.2607  91.5439   True\n",
      "     2      7 114.7748 0.001  94.5545 134.9951   True\n",
      "     2      8 192.5603 0.001 176.0132 209.1074   True\n",
      "     3      4  15.8759 0.001   9.5882  22.1636   True\n",
      "     3      5  41.3632 0.001  35.0661  47.6604   True\n",
      "     3      6   68.712 0.001  62.0457  75.3782   True\n",
      "     3      7  99.5844 0.001  79.7122 119.4567   True\n",
      "     3      8   177.37 0.001 161.2501 193.4899   True\n",
      "     4      5  25.4873 0.001  19.8149  31.1597   True\n",
      "     4      6   52.836 0.001  46.7565  58.9156   True\n",
      "     4      7  83.7085 0.001  64.0253 103.3917   True\n",
      "     4      8 161.4941 0.001 145.6078 177.3803   True\n",
      "     5      6  27.3487 0.001  21.2594  33.4381   True\n",
      "     5      7  58.2212 0.001   38.535  77.9074   True\n",
      "     5      8 136.0067 0.001 120.1167 151.8968   True\n",
      "     6      7  30.8725 0.001  11.0651  50.6799   True\n",
      "     6      8  108.658 0.001  92.6181 124.6979   True\n",
      "     7      8  77.7856 0.001  53.1331  102.438   True\n",
      "-----------------------------------------------------\n",
      "[1 2 3 4 5 6 7 8]\n"
     ]
    }
   ],
   "source": [
    "mc_APM = MultiComparison(base2['APM'],base2['LeagueIndex'])\n",
    "result_APM = mc_APM.tukeyhsd()\n",
    "\n",
    "print(result_APM)\n",
    "print(mc_APM.groupsunique)"
   ]
  },
  {
   "cell_type": "markdown",
   "metadata": {},
   "source": [
    "APM is different across all of the leagues at a significance of 0.05"
   ]
  },
  {
   "cell_type": "markdown",
   "metadata": {},
   "source": [
    "#### Pros vs. All: SelectByHotkeys"
   ]
  },
  {
   "cell_type": "code",
   "execution_count": 7,
   "metadata": {},
   "outputs": [
    {
     "data": {
      "text/plain": [
       "(231.7572826491868, 3.3676138216433242e-282)"
      ]
     },
     "execution_count": 7,
     "metadata": {},
     "output_type": "execute_result"
    }
   ],
   "source": [
    "f_SBH, p_SBH = stats.f_oneway(base2[base2['LeagueIndex']==1].SelectByHotkeys,\n",
    "                              base2[base2['LeagueIndex']==2].SelectByHotkeys,\n",
    "                              base2[base2['LeagueIndex']==3].SelectByHotkeys,\n",
    "                              base2[base2['LeagueIndex']==4].SelectByHotkeys,\n",
    "                              base2[base2['LeagueIndex']==5].SelectByHotkeys,\n",
    "                              base2[base2['LeagueIndex']==6].SelectByHotkeys,\n",
    "                              base2[base2['LeagueIndex']==7].SelectByHotkeys,\n",
    "                              base2[base2['LeagueIndex']==8].SelectByHotkeys)\n",
    "f_SBH, p_SBH"
   ]
  },
  {
   "cell_type": "markdown",
   "metadata": {},
   "source": [
    "Small p-value, do Tukey"
   ]
  },
  {
   "cell_type": "code",
   "execution_count": 8,
   "metadata": {},
   "outputs": [
    {
     "name": "stdout",
     "output_type": "stream",
     "text": [
      "Multiple Comparison of Means - Tukey HSD, FWER=0.05\n",
      "===================================================\n",
      "group1 group2 meandiff p-adj   lower  upper  reject\n",
      "---------------------------------------------------\n",
      "     1      2   0.0004    0.9 -0.0008 0.0017  False\n",
      "     1      3   0.0011 0.0801 -0.0001 0.0023  False\n",
      "     1      4   0.0021  0.001  0.0009 0.0032   True\n",
      "     1      5   0.0039  0.001  0.0027  0.005   True\n",
      "     1      6   0.0064  0.001  0.0052 0.0075   True\n",
      "     1      7   0.0083  0.001  0.0059 0.0108   True\n",
      "     1      8   0.0199  0.001  0.0178 0.0219   True\n",
      "     2      3   0.0007 0.3562 -0.0002 0.0016  False\n",
      "     2      4   0.0016  0.001  0.0008 0.0025   True\n",
      "     2      5   0.0034  0.001  0.0026 0.0043   True\n",
      "     2      6   0.0059  0.001   0.005 0.0068   True\n",
      "     2      7   0.0079  0.001  0.0055 0.0102   True\n",
      "     2      8   0.0194  0.001  0.0175 0.0214   True\n",
      "     3      4    0.001 0.0015  0.0002 0.0017   True\n",
      "     3      5   0.0028  0.001   0.002 0.0035   True\n",
      "     3      6   0.0052  0.001  0.0045  0.006   True\n",
      "     3      7   0.0072  0.001  0.0049 0.0095   True\n",
      "     3      8   0.0188  0.001  0.0169 0.0207   True\n",
      "     4      5   0.0018  0.001  0.0012 0.0025   True\n",
      "     4      6   0.0043  0.001  0.0036  0.005   True\n",
      "     4      7   0.0063  0.001   0.004 0.0085   True\n",
      "     4      8   0.0178  0.001   0.016 0.0197   True\n",
      "     5      6   0.0025  0.001  0.0018 0.0032   True\n",
      "     5      7   0.0045  0.001  0.0022 0.0067   True\n",
      "     5      8    0.016  0.001  0.0142 0.0179   True\n",
      "     6      7    0.002 0.1463 -0.0003 0.0043  False\n",
      "     6      8   0.0135  0.001  0.0117 0.0154   True\n",
      "     7      8   0.0116  0.001  0.0087 0.0144   True\n",
      "---------------------------------------------------\n",
      "[1 2 3 4 5 6 7 8]\n"
     ]
    }
   ],
   "source": [
    "mc_SBH = MultiComparison(base2['SelectByHotkeys'],base2['LeagueIndex'])\n",
    "result_SBH = mc_SBH.tukeyhsd()\n",
    "\n",
    "print(result_SBH)\n",
    "print(mc_SBH.groupsunique)"
   ]
  },
  {
   "cell_type": "markdown",
   "metadata": {},
   "source": [
    "In Select By Hotkeys, there are some cases where the mean does not significantly change between adjascent groups (Bronze-Silver, Bronze- Gold, Silver-Gold, and Master-Grandmaster), as well as one pair jump (Bronze-Gold)."
   ]
  },
  {
   "cell_type": "markdown",
   "metadata": {},
   "source": [
    "#### Pros vs. All: AssignToHotkeys"
   ]
  },
  {
   "cell_type": "code",
   "execution_count": 9,
   "metadata": {},
   "outputs": [
    {
     "data": {
      "text/plain": [
       "(223.88940721002388, 4.279421546449828e-274)"
      ]
     },
     "execution_count": 9,
     "metadata": {},
     "output_type": "execute_result"
    }
   ],
   "source": [
    "f_ATH, p_ATH = stats.f_oneway(base2[base2['LeagueIndex']==1].AssignToHotkeys,\n",
    "                              base2[base2['LeagueIndex']==2].AssignToHotkeys,\n",
    "                              base2[base2['LeagueIndex']==3].AssignToHotkeys,\n",
    "                              base2[base2['LeagueIndex']==4].AssignToHotkeys,\n",
    "                              base2[base2['LeagueIndex']==5].AssignToHotkeys,\n",
    "                              base2[base2['LeagueIndex']==6].AssignToHotkeys,\n",
    "                              base2[base2['LeagueIndex']==7].AssignToHotkeys,\n",
    "                              base2[base2['LeagueIndex']==8].AssignToHotkeys)\n",
    "f_ATH, p_ATH"
   ]
  },
  {
   "cell_type": "markdown",
   "metadata": {},
   "source": [
    "Continue to Tukeys"
   ]
  },
  {
   "cell_type": "code",
   "execution_count": 10,
   "metadata": {},
   "outputs": [
    {
     "name": "stdout",
     "output_type": "stream",
     "text": [
      "Multiple Comparison of Means - Tukey HSD, FWER=0.05\n",
      "==================================================\n",
      "group1 group2 meandiff p-adj  lower  upper  reject\n",
      "--------------------------------------------------\n",
      "     1      2      0.0 0.4646   -0.0 0.0001  False\n",
      "     1      3   0.0001  0.001    0.0 0.0001   True\n",
      "     1      4   0.0002  0.001 0.0001 0.0002   True\n",
      "     1      5   0.0002  0.001 0.0002 0.0003   True\n",
      "     1      6   0.0003  0.001 0.0003 0.0004   True\n",
      "     1      7   0.0005  0.001 0.0004 0.0006   True\n",
      "     1      8   0.0008  0.001 0.0007 0.0008   True\n",
      "     2      3   0.0001  0.001    0.0 0.0001   True\n",
      "     2      4   0.0001  0.001 0.0001 0.0002   True\n",
      "     2      5   0.0002  0.001 0.0002 0.0002   True\n",
      "     2      6   0.0003  0.001 0.0003 0.0003   True\n",
      "     2      7   0.0005  0.001 0.0004 0.0006   True\n",
      "     2      8   0.0007  0.001 0.0006 0.0008   True\n",
      "     3      4   0.0001  0.001    0.0 0.0001   True\n",
      "     3      5   0.0001  0.001 0.0001 0.0002   True\n",
      "     3      6   0.0002  0.001 0.0002 0.0003   True\n",
      "     3      7   0.0004  0.001 0.0003 0.0005   True\n",
      "     3      8   0.0007  0.001 0.0006 0.0007   True\n",
      "     4      5   0.0001  0.001    0.0 0.0001   True\n",
      "     4      6   0.0002  0.001 0.0001 0.0002   True\n",
      "     4      7   0.0004  0.001 0.0003 0.0005   True\n",
      "     4      8   0.0006  0.001 0.0005 0.0007   True\n",
      "     5      6   0.0001  0.001 0.0001 0.0001   True\n",
      "     5      7   0.0003  0.001 0.0002 0.0004   True\n",
      "     5      8   0.0005  0.001 0.0004 0.0006   True\n",
      "     6      7   0.0002  0.001 0.0001 0.0003   True\n",
      "     6      8   0.0004  0.001 0.0003 0.0005   True\n",
      "     7      8   0.0002  0.001 0.0001 0.0003   True\n",
      "--------------------------------------------------\n",
      "[1 2 3 4 5 6 7 8]\n"
     ]
    }
   ],
   "source": [
    "mc_ATH = MultiComparison(base2['AssignToHotkeys'],base2['LeagueIndex'])\n",
    "result_ATH = mc_ATH.tukeyhsd()\n",
    "\n",
    "print(result_ATH)\n",
    "print(mc_ATH.groupsunique)"
   ]
  },
  {
   "cell_type": "markdown",
   "metadata": {},
   "source": [
    "Only keep of the null hypothesis, between Bronze and Silver"
   ]
  },
  {
   "cell_type": "markdown",
   "metadata": {},
   "source": [
    "#### Pros vs. All: UniqueHotkeys"
   ]
  },
  {
   "cell_type": "code",
   "execution_count": 11,
   "metadata": {},
   "outputs": [
    {
     "data": {
      "text/plain": [
       "(75.81603914894723, 2.1424126074003407e-102)"
      ]
     },
     "execution_count": 11,
     "metadata": {},
     "output_type": "execute_result"
    }
   ],
   "source": [
    "f_UH, p_UH = stats.f_oneway(base2[base2['LeagueIndex']==1].UniqueHotkeys,\n",
    "                              base2[base2['LeagueIndex']==2].UniqueHotkeys,\n",
    "                              base2[base2['LeagueIndex']==3].UniqueHotkeys,\n",
    "                              base2[base2['LeagueIndex']==4].UniqueHotkeys,\n",
    "                              base2[base2['LeagueIndex']==5].UniqueHotkeys,\n",
    "                              base2[base2['LeagueIndex']==6].UniqueHotkeys,\n",
    "                              base2[base2['LeagueIndex']==7].UniqueHotkeys,\n",
    "                              base2[base2['LeagueIndex']==8].UniqueHotkeys)\n",
    "f_UH, p_UH"
   ]
  },
  {
   "cell_type": "markdown",
   "metadata": {},
   "source": [
    "Move to Tukey"
   ]
  },
  {
   "cell_type": "code",
   "execution_count": 12,
   "metadata": {},
   "outputs": [
    {
     "name": "stdout",
     "output_type": "stream",
     "text": [
      "Multiple Comparison of Means - Tukey HSD, FWER=0.05\n",
      "===================================================\n",
      "group1 group2 meandiff p-adj   lower  upper  reject\n",
      "---------------------------------------------------\n",
      "     1      2   0.1166    0.9  -0.512 0.7453  False\n",
      "     1      3   0.4522 0.2794 -0.1373 1.0417  False\n",
      "     1      4   0.7367 0.0021  0.1693 1.3041   True\n",
      "     1      5   1.4644  0.001  0.8966 2.0322   True\n",
      "     1      6   2.2868  0.001  1.7048 2.8688   True\n",
      "     1      7   3.5365  0.001  2.2976 4.7754   True\n",
      "     1      8   4.1105  0.001  3.0742 5.1468   True\n",
      "     2      3   0.3356 0.3333 -0.1206 0.7918  False\n",
      "     2      4   0.6201  0.001  0.1928 1.0473   True\n",
      "     2      5   1.3478  0.001    0.92 1.7756   True\n",
      "     2      6   2.1702  0.001  1.7237 2.6166   True\n",
      "     2      7   3.4198  0.001  2.2385 4.6012   True\n",
      "     2      8   3.9939  0.001  3.0271 4.9606   True\n",
      "     3      4   0.2845 0.2676 -0.0829 0.6518  False\n",
      "     3      5   1.0122  0.001  0.6443 1.3801   True\n",
      "     3      6   1.8346  0.001  1.4451  2.224   True\n",
      "     3      7   3.0843  0.001  1.9233 4.2453   True\n",
      "     3      8   3.6583  0.001  2.7165 4.6001   True\n",
      "     4      5   0.7277  0.001  0.3963 1.0591   True\n",
      "     4      6   1.5501  0.001  1.1949 1.9053   True\n",
      "     4      7   2.7998  0.001  1.6498 3.9497   True\n",
      "     4      8   3.3738  0.001  2.4457 4.3019   True\n",
      "     5      6   0.8224  0.001  0.4666 1.1781   True\n",
      "     5      7    2.072  0.001  0.9219 3.2222   True\n",
      "     5      8   2.6461  0.001  1.7177 3.5744   True\n",
      "     6      7   1.2497 0.0237  0.0925 2.4069   True\n",
      "     6      8   1.8237  0.001  0.8866 2.7608   True\n",
      "     7      8    0.574    0.9 -0.8662 2.0143  False\n",
      "---------------------------------------------------\n",
      "[1 2 3 4 5 6 7 8]\n"
     ]
    }
   ],
   "source": [
    "mc_UH = MultiComparison(base2['UniqueHotkeys'],base2['LeagueIndex'])\n",
    "result_UH = mc_UH.tukeyhsd()\n",
    "\n",
    "print(result_UH)\n",
    "print(mc_UH.groupsunique)"
   ]
  },
  {
   "cell_type": "markdown",
   "metadata": {},
   "source": [
    "Keep the null on: Bronze-Silver, Bronze-Gold, Silver-Gold, Gold-Platinum, and GM-Pro"
   ]
  },
  {
   "cell_type": "markdown",
   "metadata": {},
   "source": [
    "#### Pros vs All: MinimapAttacks"
   ]
  },
  {
   "cell_type": "code",
   "execution_count": 13,
   "metadata": {},
   "outputs": [
    {
     "data": {
      "text/plain": [
       "(70.07493831956016, 6.915349471701886e-95)"
      ]
     },
     "execution_count": 13,
     "metadata": {},
     "output_type": "execute_result"
    }
   ],
   "source": [
    "f_MA, p_MA = stats.f_oneway(base2[base2['LeagueIndex']==1].MinimapAttacks,\n",
    "                              base2[base2['LeagueIndex']==2].MinimapAttacks,\n",
    "                              base2[base2['LeagueIndex']==3].MinimapAttacks,\n",
    "                              base2[base2['LeagueIndex']==4].MinimapAttacks,\n",
    "                              base2[base2['LeagueIndex']==5].MinimapAttacks,\n",
    "                              base2[base2['LeagueIndex']==6].MinimapAttacks,\n",
    "                              base2[base2['LeagueIndex']==7].MinimapAttacks,\n",
    "                              base2[base2['LeagueIndex']==8].MinimapAttacks)\n",
    "f_MA, p_MA"
   ]
  },
  {
   "cell_type": "markdown",
   "metadata": {},
   "source": [
    "Largest p value so far (still very small)"
   ]
  },
  {
   "cell_type": "code",
   "execution_count": 14,
   "metadata": {},
   "outputs": [
    {
     "name": "stdout",
     "output_type": "stream",
     "text": [
      "Multiple Comparison of Means - Tukey HSD, FWER=0.05\n",
      "===================================================\n",
      "group1 group2 meandiff p-adj   lower  upper  reject\n",
      "---------------------------------------------------\n",
      "     1      2      0.0    0.9    -0.0 0.0001  False\n",
      "     1      3      0.0 0.4787    -0.0 0.0001  False\n",
      "     1      4      0.0  0.011     0.0 0.0001   True\n",
      "     1      5   0.0001  0.001     0.0 0.0001   True\n",
      "     1      6   0.0001  0.001  0.0001 0.0002   True\n",
      "     1      7   0.0003  0.001  0.0002 0.0004   True\n",
      "     1      8   0.0003  0.001  0.0003 0.0004   True\n",
      "     2      3      0.0    0.9    -0.0    0.0  False\n",
      "     2      4      0.0 0.0501    -0.0 0.0001  False\n",
      "     2      5   0.0001  0.001     0.0 0.0001   True\n",
      "     2      6   0.0001  0.001  0.0001 0.0001   True\n",
      "     2      7   0.0003  0.001  0.0002 0.0004   True\n",
      "     2      8   0.0003  0.001  0.0003 0.0004   True\n",
      "     3      4      0.0 0.3585    -0.0    0.0  False\n",
      "     3      5   0.0001  0.001     0.0 0.0001   True\n",
      "     3      6   0.0001  0.001  0.0001 0.0001   True\n",
      "     3      7   0.0003  0.001  0.0002 0.0004   True\n",
      "     3      8   0.0003  0.001  0.0003 0.0004   True\n",
      "     4      5      0.0  0.001     0.0 0.0001   True\n",
      "     4      6   0.0001  0.001  0.0001 0.0001   True\n",
      "     4      7   0.0003  0.001  0.0002 0.0003   True\n",
      "     4      8   0.0003  0.001  0.0002 0.0004   True\n",
      "     5      6      0.0  0.001     0.0 0.0001   True\n",
      "     5      7   0.0002  0.001  0.0001 0.0003   True\n",
      "     5      8   0.0003  0.001  0.0002 0.0003   True\n",
      "     6      7   0.0002  0.001  0.0001 0.0003   True\n",
      "     6      8   0.0002  0.001  0.0002 0.0003   True\n",
      "     7      8      0.0    0.9 -0.0001 0.0001  False\n",
      "---------------------------------------------------\n",
      "[1 2 3 4 5 6 7 8]\n"
     ]
    }
   ],
   "source": [
    "mc_MA = MultiComparison(base2['MinimapAttacks'],base2['LeagueIndex'])\n",
    "result_MA = mc_MA.tukeyhsd()\n",
    "\n",
    "print(result_MA)\n",
    "print(mc_MA.groupsunique)"
   ]
  },
  {
   "cell_type": "markdown",
   "metadata": {},
   "source": [
    "Keep the null hypothesis on: Bronze-Silver, Bronze-Gold, Silver-Gold, Silver-Platinum, Gold-Platinum and GM-Pro"
   ]
  },
  {
   "cell_type": "markdown",
   "metadata": {},
   "source": [
    "#### Pros vs All: MinimapRightClicks"
   ]
  },
  {
   "cell_type": "code",
   "execution_count": 15,
   "metadata": {},
   "outputs": [
    {
     "data": {
      "text/plain": [
       "(31.51732206476627, 1.3080364877901262e-42)"
      ]
     },
     "execution_count": 15,
     "metadata": {},
     "output_type": "execute_result"
    }
   ],
   "source": [
    "f_MRC, p_MRC = stats.f_oneway(base2[base2['LeagueIndex']==1].MinimapRightClicks,\n",
    "                              base2[base2['LeagueIndex']==2].MinimapRightClicks,\n",
    "                              base2[base2['LeagueIndex']==3].MinimapRightClicks,\n",
    "                              base2[base2['LeagueIndex']==4].MinimapRightClicks,\n",
    "                              base2[base2['LeagueIndex']==5].MinimapRightClicks,\n",
    "                              base2[base2['LeagueIndex']==6].MinimapRightClicks,\n",
    "                              base2[base2['LeagueIndex']==7].MinimapRightClicks,\n",
    "                              base2[base2['LeagueIndex']==8].MinimapRightClicks)\n",
    "f_MRC, p_MRC"
   ]
  },
  {
   "cell_type": "markdown",
   "metadata": {},
   "source": [
    "Very 'large', I'm expecting a lot of null hypothesis keeps"
   ]
  },
  {
   "cell_type": "code",
   "execution_count": 16,
   "metadata": {},
   "outputs": [
    {
     "name": "stdout",
     "output_type": "stream",
     "text": [
      "Multiple Comparison of Means - Tukey HSD, FWER=0.05\n",
      "===================================================\n",
      "group1 group2 meandiff p-adj   lower  upper  reject\n",
      "---------------------------------------------------\n",
      "     1      2   0.0001 0.4983    -0.0 0.0002  False\n",
      "     1      3   0.0001 0.0031     0.0 0.0002   True\n",
      "     1      4   0.0002  0.001  0.0001 0.0003   True\n",
      "     1      5   0.0002  0.001  0.0001 0.0003   True\n",
      "     1      6   0.0003  0.001  0.0002 0.0004   True\n",
      "     1      7   0.0004  0.001  0.0002 0.0006   True\n",
      "     1      8   0.0006  0.001  0.0005 0.0008   True\n",
      "     2      3   0.0001 0.3227    -0.0 0.0001  False\n",
      "     2      4   0.0001 0.0021     0.0 0.0002   True\n",
      "     2      5   0.0002  0.001  0.0001 0.0002   True\n",
      "     2      6   0.0002  0.001  0.0001 0.0003   True\n",
      "     2      7   0.0003  0.001  0.0001 0.0005   True\n",
      "     2      8   0.0006  0.001  0.0004 0.0007   True\n",
      "     3      4      0.0 0.6108    -0.0 0.0001  False\n",
      "     3      5   0.0001  0.001     0.0 0.0002   True\n",
      "     3      6   0.0001  0.001  0.0001 0.0002   True\n",
      "     3      7   0.0002 0.0046     0.0 0.0004   True\n",
      "     3      8   0.0005  0.001  0.0003 0.0007   True\n",
      "     4      5   0.0001 0.0302     0.0 0.0001   True\n",
      "     4      6   0.0001  0.001     0.0 0.0002   True\n",
      "     4      7   0.0002 0.0295     0.0 0.0004   True\n",
      "     4      8   0.0005  0.001  0.0003 0.0006   True\n",
      "     5      6      0.0 0.2351    -0.0 0.0001  False\n",
      "     5      7   0.0001 0.3027    -0.0 0.0003  False\n",
      "     5      8   0.0004  0.001  0.0003 0.0006   True\n",
      "     6      7   0.0001 0.7657 -0.0001 0.0003  False\n",
      "     6      8   0.0004  0.001  0.0002 0.0005   True\n",
      "     7      8   0.0003 0.0223     0.0 0.0005   True\n",
      "---------------------------------------------------\n",
      "[1 2 3 4 5 6 7 8]\n"
     ]
    }
   ],
   "source": [
    "mc_MRC = MultiComparison(base2['MinimapRightClicks'],base2['LeagueIndex'])\n",
    "result_MRC = mc_MRC.tukeyhsd()\n",
    "\n",
    "print(result_MRC)\n",
    "print(mc_MRC.groupsunique)"
   ]
  },
  {
   "cell_type": "markdown",
   "metadata": {},
   "source": [
    "Keep the null hypothesis for: Bronze-Silver, Silver-Gold, Gold-Platnium, Diamond-Master, Diamond-GM, Master-GM"
   ]
  },
  {
   "cell_type": "markdown",
   "metadata": {},
   "source": [
    "#### Pros vs. All: NumberOfPACs"
   ]
  },
  {
   "cell_type": "code",
   "execution_count": 17,
   "metadata": {},
   "outputs": [
    {
     "data": {
      "text/plain": [
       "(299.4261346149908, 0.0)"
      ]
     },
     "execution_count": 17,
     "metadata": {},
     "output_type": "execute_result"
    }
   ],
   "source": [
    "f_NOP, p_NOP = stats.f_oneway(base2[base2['LeagueIndex']==1].NumberOfPACs,\n",
    "                              base2[base2['LeagueIndex']==2].NumberOfPACs,\n",
    "                              base2[base2['LeagueIndex']==3].NumberOfPACs,\n",
    "                              base2[base2['LeagueIndex']==4].NumberOfPACs,\n",
    "                              base2[base2['LeagueIndex']==5].NumberOfPACs,\n",
    "                              base2[base2['LeagueIndex']==6].NumberOfPACs,\n",
    "                              base2[base2['LeagueIndex']==7].NumberOfPACs,\n",
    "                              base2[base2['LeagueIndex']==8].NumberOfPACs)\n",
    "f_NOP, p_NOP"
   ]
  },
  {
   "cell_type": "markdown",
   "metadata": {},
   "source": [
    "Lots of signficance here"
   ]
  },
  {
   "cell_type": "code",
   "execution_count": 18,
   "metadata": {},
   "outputs": [
    {
     "name": "stdout",
     "output_type": "stream",
     "text": [
      "Multiple Comparison of Means - Tukey HSD, FWER=0.05\n",
      "==================================================\n",
      "group1 group2 meandiff p-adj  lower  upper  reject\n",
      "--------------------------------------------------\n",
      "     1      2   0.0003 0.004  0.0001 0.0005   True\n",
      "     1      3   0.0006 0.001  0.0004 0.0008   True\n",
      "     1      4   0.0009 0.001  0.0007 0.0011   True\n",
      "     1      5   0.0014 0.001  0.0012 0.0016   True\n",
      "     1      6   0.0019 0.001  0.0017 0.0021   True\n",
      "     1      7   0.0027 0.001  0.0023 0.0032   True\n",
      "     1      8   0.0029 0.001  0.0025 0.0032   True\n",
      "     2      3   0.0003 0.001  0.0002 0.0005   True\n",
      "     2      4   0.0007 0.001  0.0005 0.0008   True\n",
      "     2      5   0.0011 0.001  0.0009 0.0012   True\n",
      "     2      6   0.0016 0.001  0.0014 0.0017   True\n",
      "     2      7   0.0025 0.001   0.002 0.0029   True\n",
      "     2      8   0.0026 0.001  0.0022 0.0029   True\n",
      "     3      4   0.0003 0.001  0.0002 0.0005   True\n",
      "     3      5   0.0008 0.001  0.0006 0.0009   True\n",
      "     3      6   0.0013 0.001  0.0011 0.0014   True\n",
      "     3      7   0.0021 0.001  0.0017 0.0025   True\n",
      "     3      8   0.0023 0.001  0.0019 0.0026   True\n",
      "     4      5   0.0004 0.001  0.0003 0.0005   True\n",
      "     4      6   0.0009 0.001  0.0008  0.001   True\n",
      "     4      7   0.0018 0.001  0.0014 0.0022   True\n",
      "     4      8   0.0019 0.001  0.0016 0.0023   True\n",
      "     5      6   0.0005 0.001  0.0004 0.0006   True\n",
      "     5      7   0.0014 0.001   0.001 0.0018   True\n",
      "     5      8   0.0015 0.001  0.0012 0.0018   True\n",
      "     6      7   0.0009 0.001  0.0005 0.0013   True\n",
      "     6      8    0.001 0.001  0.0007 0.0013   True\n",
      "     7      8   0.0001   0.9 -0.0004 0.0006  False\n",
      "--------------------------------------------------\n",
      "[1 2 3 4 5 6 7 8]\n"
     ]
    }
   ],
   "source": [
    "mc_NOP = MultiComparison(base2['NumberOfPACs'],base2['LeagueIndex'])\n",
    "result_NOP = mc_NOP.tukeyhsd()\n",
    "\n",
    "print(result_NOP)\n",
    "print(mc_NOP.groupsunique)"
   ]
  },
  {
   "cell_type": "markdown",
   "metadata": {},
   "source": [
    "Keep the null hypothesis only between GM and Pro"
   ]
  },
  {
   "cell_type": "markdown",
   "metadata": {},
   "source": [
    "#### Pros vs All: GapBetweenPACs"
   ]
  },
  {
   "cell_type": "code",
   "execution_count": 19,
   "metadata": {},
   "outputs": [
    {
     "data": {
      "text/plain": [
       "(224.57134884198777, 8.422650923558125e-275)"
      ]
     },
     "execution_count": 19,
     "metadata": {},
     "output_type": "execute_result"
    }
   ],
   "source": [
    "f_GBP, p_GBP = stats.f_oneway(base2[base2['LeagueIndex']==1].GapBetweenPACs,\n",
    "                              base2[base2['LeagueIndex']==2].GapBetweenPACs,\n",
    "                              base2[base2['LeagueIndex']==3].GapBetweenPACs,\n",
    "                              base2[base2['LeagueIndex']==4].GapBetweenPACs,\n",
    "                              base2[base2['LeagueIndex']==5].GapBetweenPACs,\n",
    "                              base2[base2['LeagueIndex']==6].GapBetweenPACs,\n",
    "                              base2[base2['LeagueIndex']==7].GapBetweenPACs,\n",
    "                              base2[base2['LeagueIndex']==8].GapBetweenPACs)\n",
    "f_GBP, p_GBP"
   ]
  },
  {
   "cell_type": "markdown",
   "metadata": {},
   "source": [
    "Onto Tukey"
   ]
  },
  {
   "cell_type": "code",
   "execution_count": 20,
   "metadata": {},
   "outputs": [
    {
     "name": "stdout",
     "output_type": "stream",
     "text": [
      " Multiple Comparison of Means - Tukey HSD, FWER=0.05  \n",
      "======================================================\n",
      "group1 group2 meandiff p-adj   lower    upper   reject\n",
      "------------------------------------------------------\n",
      "     1      2  -10.833  0.001 -14.8155  -6.8505   True\n",
      "     1      3  -18.478  0.001 -22.2128 -14.7433   True\n",
      "     1      4 -23.5805  0.001 -27.1755 -19.9855   True\n",
      "     1      5 -29.8872  0.001 -33.4845   -26.29   True\n",
      "     1      6  -34.414  0.001 -38.1013 -30.7268   True\n",
      "     1      7 -41.6438  0.001  -49.493 -33.7946   True\n",
      "     1      8 -45.6522  0.001 -52.2178 -39.0865   True\n",
      "     2      3   -7.645  0.001 -10.5351  -4.7549   True\n",
      "     2      4 -12.7475  0.001 -15.4545 -10.0404   True\n",
      "     2      5 -19.0542  0.001 -21.7643 -16.3441   True\n",
      "     2      6  -23.581  0.001 -26.4094 -20.7526   True\n",
      "     2      7 -30.8107  0.001  -38.295 -23.3265   True\n",
      "     2      8 -34.8191  0.001 -40.9438 -28.6944   True\n",
      "     3      4  -5.1025  0.001  -7.4297  -2.7752   True\n",
      "     3      5 -11.4092  0.001   -13.74  -9.0784   True\n",
      "     3      6  -15.936  0.001 -18.4034 -13.4686   True\n",
      "     3      7 -23.1657  0.001 -30.5212 -15.8103   True\n",
      "     3      8 -27.1741  0.001 -33.1407 -21.2075   True\n",
      "     4      5  -6.3067  0.001  -8.4063  -4.2072   True\n",
      "     4      6 -10.8335  0.001 -13.0838  -8.5833   True\n",
      "     4      7 -18.0633  0.001 -25.3487 -10.7778   True\n",
      "     4      8 -22.0717  0.001 -27.9517 -16.1916   True\n",
      "     5      6  -4.5268  0.001  -6.7807  -2.2729   True\n",
      "     5      7 -11.7565  0.001 -19.0431  -4.4699   True\n",
      "     5      8 -15.7649  0.001 -21.6464  -9.8834   True\n",
      "     6      7  -7.2297 0.0566 -14.5612   0.1017  False\n",
      "     6      8 -11.2381  0.001 -17.1751  -5.3012   True\n",
      "     7      8  -4.0084 0.8828 -13.1332   5.1164  False\n",
      "------------------------------------------------------\n",
      "[1 2 3 4 5 6 7 8]\n"
     ]
    }
   ],
   "source": [
    "mc_GBP = MultiComparison(base2['GapBetweenPACs'],base2['LeagueIndex'])\n",
    "result_GBP = mc_GBP.tukeyhsd()\n",
    "\n",
    "print(result_GBP)\n",
    "print(mc_GBP.groupsunique)"
   ]
  },
  {
   "cell_type": "markdown",
   "metadata": {},
   "source": [
    "Keep the null hypothesis on: Msater-GM, GM-Pro"
   ]
  },
  {
   "cell_type": "markdown",
   "metadata": {},
   "source": [
    "#### Pros vs. All: ActionLatency"
   ]
  },
  {
   "cell_type": "code",
   "execution_count": 21,
   "metadata": {},
   "outputs": [
    {
     "data": {
      "text/plain": [
       "(408.8008889057102, 0.0)"
      ]
     },
     "execution_count": 21,
     "metadata": {},
     "output_type": "execute_result"
    }
   ],
   "source": [
    "f_AL, p_AL = stats.f_oneway(base2[base2['LeagueIndex']==1].ActionLatency,\n",
    "                              base2[base2['LeagueIndex']==2].ActionLatency,\n",
    "                              base2[base2['LeagueIndex']==3].ActionLatency,\n",
    "                              base2[base2['LeagueIndex']==4].ActionLatency,\n",
    "                              base2[base2['LeagueIndex']==5].ActionLatency,\n",
    "                              base2[base2['LeagueIndex']==6].ActionLatency,\n",
    "                              base2[base2['LeagueIndex']==7].ActionLatency,\n",
    "                              base2[base2['LeagueIndex']==8].ActionLatency)\n",
    "f_AL, p_AL"
   ]
  },
  {
   "cell_type": "markdown",
   "metadata": {},
   "source": [
    "Will reject most nulls"
   ]
  },
  {
   "cell_type": "code",
   "execution_count": 22,
   "metadata": {},
   "outputs": [
    {
     "name": "stdout",
     "output_type": "stream",
     "text": [
      " Multiple Comparison of Means - Tukey HSD, FWER=0.05  \n",
      "======================================================\n",
      "group1 group2 meandiff p-adj   lower    upper   reject\n",
      "------------------------------------------------------\n",
      "     1      2 -13.7359  0.001 -17.7779  -9.6939   True\n",
      "     1      3 -21.3087  0.001 -25.0993 -17.5181   True\n",
      "     1      4 -30.2122  0.001 -33.8609 -26.5635   True\n",
      "     1      5 -38.8962  0.001 -42.5472 -35.2452   True\n",
      "     1      6 -46.0582  0.001 -49.8005 -42.3158   True\n",
      "     1      7 -54.6631  0.001 -62.6296 -46.6966   True\n",
      "     1      8 -59.6158  0.001 -66.2796 -52.9521   True\n",
      "     2      3  -7.5728  0.001  -10.506  -4.6395   True\n",
      "     2      4 -16.4763  0.001 -19.2238 -13.7288   True\n",
      "     2      5 -25.1603  0.001 -27.9108 -22.4097   True\n",
      "     2      6 -32.3222  0.001 -35.1929 -29.4515   True\n",
      "     2      7 -40.9271  0.001 -48.5232 -33.3311   True\n",
      "     2      8 -45.8799  0.001 -52.0961 -39.6637   True\n",
      "     3      4  -8.9035  0.001 -11.2656  -6.5415   True\n",
      "     3      5 -17.5875  0.001 -19.9531 -15.2219   True\n",
      "     3      6 -24.7495  0.001 -27.2537 -22.2452   True\n",
      "     3      7 -33.3544  0.001 -40.8197 -25.8891   True\n",
      "     3      8 -38.3071  0.001 -44.3628 -32.2515   True\n",
      "     4      5   -8.684  0.001 -10.8149   -6.553   True\n",
      "     4      6 -15.8459  0.001 -18.1298 -13.5621   True\n",
      "     4      7 -24.4509  0.001 -31.8452 -17.0566   True\n",
      "     4      8 -29.4036  0.001 -35.3715 -23.4357   True\n",
      "     5      6   -7.162  0.001  -9.4495  -4.8744   True\n",
      "     5      7 -15.7669  0.001 -23.1623  -8.3715   True\n",
      "     5      8 -20.7196  0.001  -26.689 -14.7503   True\n",
      "     6      7  -8.6049 0.0108 -16.0459   -1.164   True\n",
      "     6      8 -13.5577  0.001 -19.5833  -7.5321   True\n",
      "     7      8  -4.9528 0.7098 -14.2138   4.3083  False\n",
      "------------------------------------------------------\n",
      "[1 2 3 4 5 6 7 8]\n"
     ]
    }
   ],
   "source": [
    "mc_AL = MultiComparison(base2['ActionLatency'],base2['LeagueIndex'])\n",
    "result_AL = mc_AL.tukeyhsd()\n",
    "\n",
    "print(result_AL)\n",
    "print(mc_AL.groupsunique)"
   ]
  },
  {
   "cell_type": "markdown",
   "metadata": {},
   "source": [
    "Only keeps the null on GM-Pro (common kept null)"
   ]
  },
  {
   "cell_type": "markdown",
   "metadata": {},
   "source": [
    "#### Pros vs. All: ActionsInPAC"
   ]
  },
  {
   "cell_type": "code",
   "execution_count": 23,
   "metadata": {},
   "outputs": [
    {
     "data": {
      "text/plain": [
       "(12.42927863873358, 8.30207214228753e-16)"
      ]
     },
     "execution_count": 23,
     "metadata": {},
     "output_type": "execute_result"
    }
   ],
   "source": [
    "f_AIP, p_AIP = stats.f_oneway(base2[base2['LeagueIndex']==1].ActionsInPAC,\n",
    "                              base2[base2['LeagueIndex']==2].ActionsInPAC,\n",
    "                              base2[base2['LeagueIndex']==3].ActionsInPAC,\n",
    "                              base2[base2['LeagueIndex']==4].ActionsInPAC,\n",
    "                              base2[base2['LeagueIndex']==5].ActionsInPAC,\n",
    "                              base2[base2['LeagueIndex']==6].ActionsInPAC,\n",
    "                              base2[base2['LeagueIndex']==7].ActionsInPAC,\n",
    "                              base2[base2['LeagueIndex']==8].ActionsInPAC)\n",
    "f_AIP, p_AIP"
   ]
  },
  {
   "cell_type": "markdown",
   "metadata": {},
   "source": [
    "really big probability, I'm expecting a lot of kept null hypoetheses"
   ]
  },
  {
   "cell_type": "code",
   "execution_count": 24,
   "metadata": {},
   "outputs": [
    {
     "name": "stdout",
     "output_type": "stream",
     "text": [
      "Multiple Comparison of Means - Tukey HSD, FWER=0.05\n",
      "===================================================\n",
      "group1 group2 meandiff p-adj   lower  upper  reject\n",
      "---------------------------------------------------\n",
      "     1      2    0.479 0.0139  0.0562 0.9018   True\n",
      "     1      3   0.6363  0.001  0.2399 1.0328   True\n",
      "     1      4     0.71  0.001  0.3284 1.0917   True\n",
      "     1      5   0.9406  0.001  0.5587 1.3225   True\n",
      "     1      6   0.9486  0.001  0.5572   1.34   True\n",
      "     1      7   0.6991 0.1769 -0.1341 1.5324  False\n",
      "     1      8   1.1498  0.001  0.4528 1.8468   True\n",
      "     2      3   0.1573 0.7496 -0.1495 0.4641  False\n",
      "     2      4    0.231 0.2233 -0.0563 0.5184  False\n",
      "     2      5   0.4616  0.001  0.1739 0.7493   True\n",
      "     2      6   0.4696  0.001  0.1694 0.7699   True\n",
      "     2      7   0.2201    0.9 -0.5744 1.0146  False\n",
      "     2      8   0.6708 0.0376  0.0206 1.3209   True\n",
      "     3      4   0.0737    0.9 -0.1734 0.3207  False\n",
      "     3      5   0.3043 0.0048  0.0568 0.5517   True\n",
      "     3      6   0.3123 0.0073  0.0503 0.5742   True\n",
      "     3      7   0.0628    0.9  -0.718 0.8436  False\n",
      "     3      8   0.5134 0.2139 -0.1199 1.1468  False\n",
      "     4      5   0.2306 0.0366  0.0077 0.4535   True\n",
      "     4      6   0.2386 0.0505 -0.0003 0.4775  False\n",
      "     4      7  -0.0109    0.9 -0.7843 0.7625  False\n",
      "     4      8   0.4398 0.3935 -0.1844  1.064  False\n",
      "     5      6    0.008    0.9 -0.2313 0.2473  False\n",
      "     5      7  -0.2415    0.9  -1.015  0.532  False\n",
      "     5      8   0.2092    0.9 -0.4152 0.8335  False\n",
      "     6      7  -0.2495    0.9 -1.0277 0.5288  False\n",
      "     6      8   0.2012    0.9 -0.4291 0.8314  False\n",
      "     7      8   0.4506 0.8358  -0.518 1.4193  False\n",
      "---------------------------------------------------\n",
      "[1 2 3 4 5 6 7 8]\n"
     ]
    }
   ],
   "source": [
    "mc_AIP = MultiComparison(base2['ActionsInPAC'],base2['LeagueIndex'])\n",
    "result_AIP = mc_AIP.tukeyhsd()\n",
    "\n",
    "print(result_AIP)\n",
    "print(mc_AIP.groupsunique)"
   ]
  },
  {
   "cell_type": "markdown",
   "metadata": {},
   "source": [
    "Rejected the null hypoethesis on: Bronze-GM, Silver-Gold, Silver-Platinum, Silver-GM, Gold-Platinum, Gold-GM, Gold-Pro, any combination of Platinum and higher. Basically, unless you are trying to tell apart big jumps, ActionsInPAC are not helpful"
   ]
  },
  {
   "cell_type": "markdown",
   "metadata": {},
   "source": [
    "#### Pros vs All: TotalMapExplored"
   ]
  },
  {
   "cell_type": "code",
   "execution_count": 25,
   "metadata": {},
   "outputs": [
    {
     "data": {
      "text/plain": [
       "(27.62398096583538, 3.6314759706155436e-37)"
      ]
     },
     "execution_count": 25,
     "metadata": {},
     "output_type": "execute_result"
    }
   ],
   "source": [
    "f_TME, p_TME = stats.f_oneway(base2[base2['LeagueIndex']==1].TotalMapExplored,\n",
    "                              base2[base2['LeagueIndex']==2].TotalMapExplored,\n",
    "                              base2[base2['LeagueIndex']==3].TotalMapExplored,\n",
    "                              base2[base2['LeagueIndex']==4].TotalMapExplored,\n",
    "                              base2[base2['LeagueIndex']==5].TotalMapExplored,\n",
    "                              base2[base2['LeagueIndex']==6].TotalMapExplored,\n",
    "                              base2[base2['LeagueIndex']==7].TotalMapExplored,\n",
    "                              base2[base2['LeagueIndex']==8].TotalMapExplored)\n",
    "f_TME, p_TME"
   ]
  },
  {
   "cell_type": "markdown",
   "metadata": {},
   "source": [
    "Should be a fair number of keeps"
   ]
  },
  {
   "cell_type": "code",
   "execution_count": 26,
   "metadata": {},
   "outputs": [
    {
     "name": "stdout",
     "output_type": "stream",
     "text": [
      "Multiple Comparison of Means - Tukey HSD, FWER=0.05 \n",
      "====================================================\n",
      "group1 group2 meandiff p-adj   lower   upper  reject\n",
      "----------------------------------------------------\n",
      "     1      2   1.0893 0.7258 -0.9819  3.1604  False\n",
      "     1      3   1.7714 0.1041 -0.1709  3.7137  False\n",
      "     1      4   3.2848  0.001  1.4152  5.1544   True\n",
      "     1      5   4.3334  0.001  2.4626  6.2042   True\n",
      "     1      6   5.5726  0.001   3.655  7.4902   True\n",
      "     1      7   9.2936  0.001  5.2116 13.3757   True\n",
      "     1      8   4.1196 0.0063  0.7051  7.5341   True\n",
      "     2      3   0.6821 0.8564 -0.8209  2.1851  False\n",
      "     2      4   2.1955  0.001  0.7877  3.6033   True\n",
      "     2      5   3.2441  0.001  1.8347  4.6535   True\n",
      "     2      6   4.4834  0.001  3.0124  5.9543   True\n",
      "     2      7   8.2044  0.001  4.3121 12.0966   True\n",
      "     2      8   3.0303 0.0762 -0.1548  6.2155  False\n",
      "     3      4   1.5134 0.0038  0.3031  2.7237   True\n",
      "     3      5    2.562  0.001  1.3498  3.7741   True\n",
      "     3      6   3.8012  0.001   2.518  5.0844   True\n",
      "     3      7   7.5222  0.001   3.697 11.3475   True\n",
      "     3      8   2.3482 0.2966 -0.7547  5.4512  False\n",
      "     4      5   1.0486 0.0707 -0.0433  2.1405  False\n",
      "     4      6   2.2878  0.001  1.1176  3.4581   True\n",
      "     4      7   6.0088  0.001    2.22  9.7977   True\n",
      "     4      8   0.8348    0.9 -2.2232  3.8928  False\n",
      "     5      6   1.2392 0.0295  0.0671  2.4114   True\n",
      "     5      7   4.9602 0.0019  1.1708  8.7497   True\n",
      "     5      8  -0.2138    0.9 -3.2725  2.8449  False\n",
      "     6      7    3.721 0.0618 -0.0918  7.5338  False\n",
      "     6      8   -1.453  0.826 -4.5406  1.6345  False\n",
      "     7      8   -5.174 0.0214 -9.9194 -0.4286   True\n",
      "----------------------------------------------------\n",
      "[1 2 3 4 5 6 7 8]\n"
     ]
    }
   ],
   "source": [
    "mc_TME = MultiComparison(base2['TotalMapExplored'],base2['LeagueIndex'])\n",
    "result_TME = mc_TME.tukeyhsd()\n",
    "\n",
    "print(result_TME)\n",
    "print(mc_TME.groupsunique)"
   ]
  },
  {
   "cell_type": "markdown",
   "metadata": {},
   "source": [
    "Keep null on: Bronze-Silver, Bronze-Gold, Silver-Gold, Silver-Pro, Gold-Pro, Platinum-Diamond, Platinum-Pro, Diamond-Pro, Master-GM, Master-Pro"
   ]
  },
  {
   "cell_type": "markdown",
   "metadata": {},
   "source": [
    "#### Pros vs. All: WorkersMade"
   ]
  },
  {
   "cell_type": "code",
   "execution_count": 27,
   "metadata": {},
   "outputs": [
    {
     "data": {
      "text/plain": [
       "(52.474324635241764, 2.037604077119934e-71)"
      ]
     },
     "execution_count": 27,
     "metadata": {},
     "output_type": "execute_result"
    }
   ],
   "source": [
    "f_WM, p_WM = stats.f_oneway(base2[base2['LeagueIndex']==1].WorkersMade,\n",
    "                              base2[base2['LeagueIndex']==2].WorkersMade,\n",
    "                              base2[base2['LeagueIndex']==3].WorkersMade,\n",
    "                              base2[base2['LeagueIndex']==4].WorkersMade,\n",
    "                              base2[base2['LeagueIndex']==5].WorkersMade,\n",
    "                              base2[base2['LeagueIndex']==6].WorkersMade,\n",
    "                              base2[base2['LeagueIndex']==7].WorkersMade,\n",
    "                              base2[base2['LeagueIndex']==8].WorkersMade)\n",
    "f_WM, p_WM"
   ]
  },
  {
   "cell_type": "markdown",
   "metadata": {},
   "source": [
    "Middle of the road ish, will probably reject quite a few"
   ]
  },
  {
   "cell_type": "code",
   "execution_count": 28,
   "metadata": {},
   "outputs": [
    {
     "name": "stdout",
     "output_type": "stream",
     "text": [
      "Multiple Comparison of Means - Tukey HSD, FWER=0.05\n",
      "===================================================\n",
      "group1 group2 meandiff p-adj   lower  upper  reject\n",
      "---------------------------------------------------\n",
      "     1      2   0.0002 0.0058     0.0 0.0003   True\n",
      "     1      3   0.0003  0.001  0.0002 0.0004   True\n",
      "     1      4   0.0004  0.001  0.0002 0.0005   True\n",
      "     1      5   0.0005  0.001  0.0004 0.0007   True\n",
      "     1      6   0.0006  0.001  0.0005 0.0007   True\n",
      "     1      7   0.0006  0.001  0.0003 0.0009   True\n",
      "     1      8   0.0004  0.001  0.0002 0.0007   True\n",
      "     2      3   0.0001 0.0119     0.0 0.0002   True\n",
      "     2      4   0.0002  0.001  0.0001 0.0003   True\n",
      "     2      5   0.0004  0.001  0.0003 0.0005   True\n",
      "     2      6   0.0004  0.001  0.0003 0.0005   True\n",
      "     2      7   0.0004  0.001  0.0002 0.0007   True\n",
      "     2      8   0.0003  0.003  0.0001 0.0005   True\n",
      "     3      4   0.0001 0.0294     0.0 0.0002   True\n",
      "     3      5   0.0002  0.001  0.0002 0.0003   True\n",
      "     3      6   0.0003  0.001  0.0002 0.0004   True\n",
      "     3      7   0.0003  0.005  0.0001 0.0006   True\n",
      "     3      8   0.0002  0.309 -0.0001 0.0004  False\n",
      "     4      5   0.0002  0.001  0.0001 0.0002   True\n",
      "     4      6   0.0002  0.001  0.0001 0.0003   True\n",
      "     4      7   0.0002 0.1148    -0.0 0.0005  False\n",
      "     4      8   0.0001    0.9 -0.0001 0.0003  False\n",
      "     5      6      0.0 0.6823    -0.0 0.0001  False\n",
      "     5      7   0.0001    0.9 -0.0002 0.0003  False\n",
      "     5      8  -0.0001  0.894 -0.0003 0.0001  False\n",
      "     6      7      0.0    0.9 -0.0002 0.0003  False\n",
      "     6      8  -0.0001 0.5231 -0.0003 0.0001  False\n",
      "     7      8  -0.0002 0.7765 -0.0005 0.0002  False\n",
      "---------------------------------------------------\n",
      "[1 2 3 4 5 6 7 8]\n"
     ]
    }
   ],
   "source": [
    "mc_WM = MultiComparison(base2['WorkersMade'],base2['LeagueIndex'])\n",
    "result_WM = mc_WM.tukeyhsd()\n",
    "\n",
    "print(result_WM)\n",
    "print(mc_WM.groupsunique)"
   ]
  },
  {
   "cell_type": "markdown",
   "metadata": {},
   "source": [
    "Keep null on: Gold-Pro, any combination of Platinum and higher"
   ]
  },
  {
   "cell_type": "markdown",
   "metadata": {},
   "source": [
    "#### Pro vs. All: UniqueUnitsMade"
   ]
  },
  {
   "cell_type": "code",
   "execution_count": 29,
   "metadata": {},
   "outputs": [
    {
     "data": {
      "text/plain": [
       "(11.742727910512512, 7.561419617136392e-15)"
      ]
     },
     "execution_count": 29,
     "metadata": {},
     "output_type": "execute_result"
    }
   ],
   "source": [
    "f_UUM, p_UUM = stats.f_oneway(base2[base2['LeagueIndex']==1].UniqueUnitsMade,\n",
    "                              base2[base2['LeagueIndex']==2].UniqueUnitsMade,\n",
    "                              base2[base2['LeagueIndex']==3].UniqueUnitsMade,\n",
    "                              base2[base2['LeagueIndex']==4].UniqueUnitsMade,\n",
    "                              base2[base2['LeagueIndex']==5].UniqueUnitsMade,\n",
    "                              base2[base2['LeagueIndex']==6].UniqueUnitsMade,\n",
    "                              base2[base2['LeagueIndex']==7].UniqueUnitsMade,\n",
    "                              base2[base2['LeagueIndex']==8].UniqueUnitsMade)\n",
    "f_UUM, p_UUM"
   ]
  },
  {
   "cell_type": "markdown",
   "metadata": {},
   "source": [
    "large probability, lots of null keeps"
   ]
  },
  {
   "cell_type": "code",
   "execution_count": 30,
   "metadata": {},
   "outputs": [
    {
     "name": "stdout",
     "output_type": "stream",
     "text": [
      "Multiple Comparison of Means - Tukey HSD, FWER=0.05\n",
      "===================================================\n",
      "group1 group2 meandiff p-adj   lower  upper  reject\n",
      "---------------------------------------------------\n",
      "     1      2   0.2255    0.9    -0.3 0.7511  False\n",
      "     1      3   0.5195 0.0305  0.0266 1.0124   True\n",
      "     1      4    0.724  0.001  0.2495 1.1984   True\n",
      "     1      5   0.8512  0.001  0.3765  1.326   True\n",
      "     1      6   1.0202  0.001  0.5336 1.5068   True\n",
      "     1      7   1.1792 0.0131  0.1433  2.215   True\n",
      "     1      8   0.2779    0.9 -0.5886 1.1443  False\n",
      "     2      3    0.294 0.2735 -0.0874 0.6754  False\n",
      "     2      4   0.4984  0.001  0.1412 0.8557   True\n",
      "     2      5   0.6257  0.001   0.268 0.9833   True\n",
      "     2      6   0.7946  0.001  0.4214 1.1679   True\n",
      "     2      7   0.9536 0.0676 -0.0341 1.9413  False\n",
      "     2      8   0.0523    0.9 -0.7559 0.8606  False\n",
      "     3      4   0.2045 0.4708 -0.1027 0.5116  False\n",
      "     3      5   0.3317  0.024  0.0241 0.6393   True\n",
      "     3      6   0.5007  0.001   0.175 0.8263   True\n",
      "     3      7   0.6597 0.4434  -0.311 1.6304  False\n",
      "     3      8  -0.2416    0.9  -1.029 0.5458  False\n",
      "     4      5   0.1273 0.8466 -0.1498 0.4043  False\n",
      "     4      6   0.2962 0.0512 -0.0008 0.5932  False\n",
      "     4      7   0.4552 0.8209 -0.5063 1.4167  False\n",
      "     4      8  -0.4461 0.6371 -1.2221 0.3299  False\n",
      "     5      6   0.1689 0.6496 -0.1285 0.4664  False\n",
      "     5      7    0.328    0.9 -0.6337 1.2896  False\n",
      "     5      8  -0.5733 0.3277 -1.3495 0.2028  False\n",
      "     6      7    0.159    0.9 -0.8085 1.1265  False\n",
      "     6      8  -0.7423 0.0787 -1.5258 0.0412  False\n",
      "     7      8  -0.9013 0.3107 -2.1055 0.3029  False\n",
      "---------------------------------------------------\n",
      "[1 2 3 4 5 6 7 8]\n"
     ]
    }
   ],
   "source": [
    "mc_UUM = MultiComparison(base2['UniqueUnitsMade'],base2['LeagueIndex'])\n",
    "result_UUM = mc_UUM.tukeyhsd()\n",
    "\n",
    "print(result_UUM)\n",
    "print(mc_UUM.groupsunique)"
   ]
  },
  {
   "cell_type": "markdown",
   "metadata": {},
   "source": [
    "Keep null on: Bronze-Silver, Bronze-Pro, Silver-Gold, Silver-GM, Silver-Pro, Gold-Platinum, Gold-GM, Gold-Pro, all combinations from Platinum and higher"
   ]
  },
  {
   "cell_type": "markdown",
   "metadata": {},
   "source": [
    "#### Pros vs. All: ComplexUnitsMade"
   ]
  },
  {
   "cell_type": "code",
   "execution_count": 31,
   "metadata": {},
   "outputs": [
    {
     "data": {
      "text/plain": [
       "(16.600544880285657, 1.1540968028190996e-21)"
      ]
     },
     "execution_count": 31,
     "metadata": {},
     "output_type": "execute_result"
    }
   ],
   "source": [
    "f_CoUM, p_CoUM = stats.f_oneway(base2[base2['LeagueIndex']==1].ComplexUnitsMade,\n",
    "                              base2[base2['LeagueIndex']==2].ComplexUnitsMade,\n",
    "                              base2[base2['LeagueIndex']==3].ComplexUnitsMade,\n",
    "                              base2[base2['LeagueIndex']==4].ComplexUnitsMade,\n",
    "                              base2[base2['LeagueIndex']==5].ComplexUnitsMade,\n",
    "                              base2[base2['LeagueIndex']==6].ComplexUnitsMade,\n",
    "                              base2[base2['LeagueIndex']==7].ComplexUnitsMade,\n",
    "                              base2[base2['LeagueIndex']==8].ComplexUnitsMade)\n",
    "f_CoUM, p_CoUM"
   ]
  },
  {
   "cell_type": "markdown",
   "metadata": {},
   "source": [
    "expect lots of keeps"
   ]
  },
  {
   "cell_type": "code",
   "execution_count": 32,
   "metadata": {},
   "outputs": [
    {
     "name": "stdout",
     "output_type": "stream",
     "text": [
      "Multiple Comparison of Means - Tukey HSD, FWER=0.05\n",
      "===================================================\n",
      "group1 group2 meandiff p-adj   lower  upper  reject\n",
      "---------------------------------------------------\n",
      "     1      2      0.0    0.9    -0.0    0.0  False\n",
      "     1      3      0.0 0.0379     0.0 0.0001   True\n",
      "     1      4   0.0001  0.001     0.0 0.0001   True\n",
      "     1      5   0.0001  0.001     0.0 0.0001   True\n",
      "     1      6   0.0001  0.001     0.0 0.0001   True\n",
      "     1      7   0.0001 0.0222     0.0 0.0001   True\n",
      "     1      8      0.0    0.9    -0.0 0.0001  False\n",
      "     2      3      0.0 0.1062    -0.0    0.0  False\n",
      "     2      4      0.0  0.001     0.0 0.0001   True\n",
      "     2      5   0.0001  0.001     0.0 0.0001   True\n",
      "     2      6   0.0001  0.001     0.0 0.0001   True\n",
      "     2      7   0.0001 0.0616    -0.0 0.0001  False\n",
      "     2      8      0.0    0.9    -0.0    0.0  False\n",
      "     3      4      0.0 0.0212     0.0    0.0   True\n",
      "     3      5      0.0  0.001     0.0    0.0   True\n",
      "     3      6      0.0  0.001     0.0 0.0001   True\n",
      "     3      7      0.0 0.5262    -0.0 0.0001  False\n",
      "     3      8     -0.0    0.9 -0.0001    0.0  False\n",
      "     4      5      0.0 0.5036    -0.0    0.0  False\n",
      "     4      6      0.0 0.3938    -0.0    0.0  False\n",
      "     4      7      0.0    0.9    -0.0 0.0001  False\n",
      "     4      8     -0.0 0.1771 -0.0001    0.0  False\n",
      "     5      6      0.0    0.9    -0.0    0.0  False\n",
      "     5      7      0.0    0.9 -0.0001 0.0001  False\n",
      "     5      8     -0.0  0.026 -0.0001   -0.0   True\n",
      "     6      7      0.0    0.9 -0.0001 0.0001  False\n",
      "     6      8  -0.0001 0.0198 -0.0001   -0.0   True\n",
      "     7      8  -0.0001 0.2665 -0.0001    0.0  False\n",
      "---------------------------------------------------\n",
      "[1 2 3 4 5 6 7 8]\n"
     ]
    }
   ],
   "source": [
    "mc_CoUM = MultiComparison(base2['ComplexUnitsMade'],base2['LeagueIndex'])\n",
    "result_CoUM = mc_CoUM.tukeyhsd()\n",
    "\n",
    "print(result_CoUM)\n",
    "print(mc_CoUM.groupsunique)"
   ]
  },
  {
   "cell_type": "markdown",
   "metadata": {},
   "source": [
    "Keep null on: Bronze-Silver, Bronze-Pro, Silver-Gold, Silver-GM, Silver-Pro, Gold-GM through Diamond-GM, Master-GM, GM-Pro"
   ]
  },
  {
   "cell_type": "markdown",
   "metadata": {},
   "source": [
    "#### Pros vs. All: ComplexAbilitiesUsed"
   ]
  },
  {
   "cell_type": "code",
   "execution_count": 33,
   "metadata": {},
   "outputs": [
    {
     "data": {
      "text/plain": [
       "(12.556734905093624, 5.50643511344855e-16)"
      ]
     },
     "execution_count": 33,
     "metadata": {},
     "output_type": "execute_result"
    }
   ],
   "source": [
    "f_CAU, p_CAU = stats.f_oneway(base2[base2['LeagueIndex']==1].ComplexAbilitiesUsed,\n",
    "                              base2[base2['LeagueIndex']==2].ComplexAbilitiesUsed,\n",
    "                              base2[base2['LeagueIndex']==3].ComplexAbilitiesUsed,\n",
    "                              base2[base2['LeagueIndex']==4].ComplexAbilitiesUsed,\n",
    "                              base2[base2['LeagueIndex']==5].ComplexAbilitiesUsed,\n",
    "                              base2[base2['LeagueIndex']==6].ComplexAbilitiesUsed,\n",
    "                              base2[base2['LeagueIndex']==7].ComplexAbilitiesUsed,\n",
    "                              base2[base2['LeagueIndex']==8].ComplexAbilitiesUsed)\n",
    "f_CAU, p_CAU"
   ]
  },
  {
   "cell_type": "markdown",
   "metadata": {},
   "source": [
    "here comes lots of nulls!"
   ]
  },
  {
   "cell_type": "code",
   "execution_count": 34,
   "metadata": {},
   "outputs": [
    {
     "name": "stdout",
     "output_type": "stream",
     "text": [
      "Multiple Comparison of Means - Tukey HSD, FWER=0.05\n",
      "===================================================\n",
      "group1 group2 meandiff p-adj   lower  upper  reject\n",
      "---------------------------------------------------\n",
      "     1      2      0.0 0.8672    -0.0 0.0001  False\n",
      "     1      3   0.0001 0.0277     0.0 0.0001   True\n",
      "     1      4   0.0001  0.001     0.0 0.0002   True\n",
      "     1      5   0.0001  0.001  0.0001 0.0002   True\n",
      "     1      6   0.0001  0.001  0.0001 0.0002   True\n",
      "     1      7   0.0002  0.001  0.0001 0.0004   True\n",
      "     1      8   0.0001 0.3002    -0.0 0.0002  False\n",
      "     2      3      0.0 0.2954    -0.0 0.0001  False\n",
      "     2      4   0.0001 0.0049     0.0 0.0001   True\n",
      "     2      5   0.0001  0.001     0.0 0.0002   True\n",
      "     2      6   0.0001  0.001  0.0001 0.0002   True\n",
      "     2      7   0.0002  0.001  0.0001 0.0003   True\n",
      "     2      8   0.0001 0.7406 -0.0001 0.0002  False\n",
      "     3      4      0.0 0.7962    -0.0 0.0001  False\n",
      "     3      5   0.0001 0.0011     0.0 0.0001   True\n",
      "     3      6   0.0001  0.001     0.0 0.0001   True\n",
      "     3      7   0.0002 0.0225     0.0 0.0003   True\n",
      "     3      8      0.0    0.9 -0.0001 0.0001  False\n",
      "     4      5      0.0 0.0682    -0.0 0.0001  False\n",
      "     4      6      0.0 0.0381     0.0 0.0001   True\n",
      "     4      7   0.0001 0.0834    -0.0 0.0003  False\n",
      "     4      8     -0.0    0.9 -0.0001 0.0001  False\n",
      "     5      6      0.0    0.9    -0.0    0.0  False\n",
      "     5      7   0.0001 0.4777    -0.0 0.0002  False\n",
      "     5      8     -0.0    0.9 -0.0002 0.0001  False\n",
      "     6      7   0.0001 0.5588 -0.0001 0.0002  False\n",
      "     6      8     -0.0    0.9 -0.0002 0.0001  False\n",
      "     7      8  -0.0001  0.279 -0.0003    0.0  False\n",
      "---------------------------------------------------\n",
      "[1 2 3 4 5 6 7 8]\n"
     ]
    }
   ],
   "source": [
    "mc_CAU = MultiComparison(base2['ComplexAbilitiesUsed'],base2['LeagueIndex'])\n",
    "result_CAU = mc_CAU.tukeyhsd()\n",
    "\n",
    "print(result_CAU)\n",
    "print(mc_CAU.groupsunique)"
   ]
  },
  {
   "cell_type": "markdown",
   "metadata": {},
   "source": [
    "Keep null on: Bronze-Silver, Bronze-Pro, Silver-Gold, Silver-Pro, Gold-Platinum, Platinum-Diamond, all combinations of Diamond-GM or higher"
   ]
  },
  {
   "cell_type": "markdown",
   "metadata": {},
   "source": [
    "### Look at comparisons of 3 non-pro features"
   ]
  },
  {
   "cell_type": "code",
   "execution_count": 35,
   "metadata": {},
   "outputs": [],
   "source": [
    "base3 = base2[base2['LeagueIndex'] <8]\n",
    "base3 = base3.dropna(axis=0)"
   ]
  },
  {
   "cell_type": "markdown",
   "metadata": {},
   "source": [
    "#### All on Age"
   ]
  },
  {
   "cell_type": "code",
   "execution_count": 36,
   "metadata": {},
   "outputs": [
    {
     "data": {
      "text/plain": [
       "(10.814915963158274, 5.984201730651382e-12)"
      ]
     },
     "execution_count": 36,
     "metadata": {},
     "output_type": "execute_result"
    }
   ],
   "source": [
    "f_Age, p_Age = stats.f_oneway(base3[base3['LeagueIndex']==1].Age,\n",
    "                              base3[base3['LeagueIndex']==2].Age,\n",
    "                              base3[base3['LeagueIndex']==3].Age,\n",
    "                              base3[base3['LeagueIndex']==4].Age,\n",
    "                              base3[base3['LeagueIndex']==5].Age,\n",
    "                              base3[base3['LeagueIndex']==6].Age,\n",
    "                              base3[base3['LeagueIndex']==7].Age)\n",
    "f_Age, p_Age"
   ]
  },
  {
   "cell_type": "markdown",
   "metadata": {},
   "source": [
    "lots of null hypotheses will be kept"
   ]
  },
  {
   "cell_type": "code",
   "execution_count": 37,
   "metadata": {},
   "outputs": [
    {
     "name": "stdout",
     "output_type": "stream",
     "text": [
      "Multiple Comparison of Means - Tukey HSD, FWER=0.05 \n",
      "====================================================\n",
      "group1 group2 meandiff p-adj   lower   upper  reject\n",
      "----------------------------------------------------\n",
      "     1      2  -0.6094 0.6887 -1.7702  0.5513  False\n",
      "     1      3  -0.7144 0.4583  -1.803  0.3741  False\n",
      "     1      4  -0.7836 0.2924 -1.8314  0.2643  False\n",
      "     1      5   -1.389 0.0018 -2.4377 -0.3403   True\n",
      "     1      6  -2.0871  0.001 -3.1618 -1.0124   True\n",
      "     1      7  -1.5936 0.3816 -3.8814  0.6942  False\n",
      "     2      3   -0.105    0.9 -0.9473  0.7374  False\n",
      "     2      4  -0.1741    0.9 -0.9631  0.6149  False\n",
      "     2      5  -0.7795 0.0561 -1.5697  0.0107  False\n",
      "     2      6  -1.4777  0.001 -2.3021 -0.6533   True\n",
      "     2      7  -0.9842 0.8168 -3.1656  1.1972  False\n",
      "     3      4  -0.0691    0.9 -0.7475  0.6092  False\n",
      "     3      5  -0.6745 0.0533 -1.3542  0.0052  False\n",
      "     3      6  -1.3727  0.001 -2.0919 -0.6535   True\n",
      "     3      7  -0.8792  0.888 -3.0231  1.2647  False\n",
      "     4      5  -0.6054  0.055 -1.2177  0.0069  False\n",
      "     4      6  -1.3036  0.001 -1.9594 -0.6477   True\n",
      "     4      7  -0.8101    0.9 -2.9335  1.3134  False\n",
      "     5      6  -0.6982 0.0289 -1.3554 -0.0409   True\n",
      "     5      7  -0.2047    0.9 -2.3286  1.9192  False\n",
      "     6      7   0.4935    0.9 -1.6434  2.6304  False\n",
      "----------------------------------------------------\n",
      "[1 2 3 4 5 6 7]\n"
     ]
    }
   ],
   "source": [
    "mc_Age = MultiComparison(base3['Age'],base3['LeagueIndex'])\n",
    "result_Age = mc_Age.tukeyhsd()\n",
    "\n",
    "print(result_Age)\n",
    "print(mc_Age.groupsunique)"
   ]
  },
  {
   "cell_type": "markdown",
   "metadata": {},
   "source": [
    "Only reject on: Bronze-Diamond, Bronze-Master, Silver-Master, Gold-Diamond, Gold-Master, Platinum-Diamond, Platinum-Master and Diamond-Master"
   ]
  },
  {
   "cell_type": "markdown",
   "metadata": {},
   "source": [
    "#### All on HoursPerWeek"
   ]
  },
  {
   "cell_type": "code",
   "execution_count": 38,
   "metadata": {},
   "outputs": [
    {
     "data": {
      "text/plain": [
       "(42.70960655643759, 1.7764947538317148e-50)"
      ]
     },
     "execution_count": 38,
     "metadata": {},
     "output_type": "execute_result"
    }
   ],
   "source": [
    "f_HPW, p_HPW = stats.f_oneway(base3[base3['LeagueIndex']==1].HoursPerWeek,\n",
    "                              base3[base3['LeagueIndex']==2].HoursPerWeek,\n",
    "                              base3[base3['LeagueIndex']==3].HoursPerWeek,\n",
    "                              base3[base3['LeagueIndex']==4].HoursPerWeek,\n",
    "                              base3[base3['LeagueIndex']==5].HoursPerWeek,\n",
    "                              base3[base3['LeagueIndex']==6].HoursPerWeek,\n",
    "                              base3[base3['LeagueIndex']==7].HoursPerWeek\n",
    "                             )\n",
    "f_HPW, p_HPW"
   ]
  },
  {
   "cell_type": "markdown",
   "metadata": {},
   "source": [
    "Some nulls kept"
   ]
  },
  {
   "cell_type": "code",
   "execution_count": 39,
   "metadata": {},
   "outputs": [
    {
     "name": "stdout",
     "output_type": "stream",
     "text": [
      "Multiple Comparison of Means - Tukey HSD, FWER=0.05 \n",
      "====================================================\n",
      "group1 group2 meandiff p-adj   lower   upper  reject\n",
      "----------------------------------------------------\n",
      "     1      2   0.1884    0.9  -3.025  3.4017  False\n",
      "     1      3   0.8409    0.9 -2.1725  3.8544  False\n",
      "     1      4   0.9138    0.9 -1.9869  3.8145  False\n",
      "     1      5   3.0609 0.0311  0.1578  5.9641   True\n",
      "     1      6   7.9801  0.001   5.005 10.9553   True\n",
      "     1      7  18.6059  0.001 12.2726 24.9391   True\n",
      "     2      3   0.6525    0.9 -1.6794  2.9845  False\n",
      "     2      4   0.7254    0.9 -1.4589  2.9096  False\n",
      "     2      5   2.8725 0.0021  0.6851    5.06   True\n",
      "     2      6   7.7917  0.001  5.5096 10.0739   True\n",
      "     2      7  18.4175  0.001 12.3786 24.4563   True\n",
      "     3      4   0.0728    0.9  -1.805  1.9506  False\n",
      "     3      5     2.22 0.0091  0.3384  4.1016   True\n",
      "     3      6   7.1392  0.001  5.1483  9.1301   True\n",
      "     3      7  17.7649  0.001 11.8301 23.6998   True\n",
      "     4      5   2.1472 0.0036   0.452  3.8423   True\n",
      "     4      6   7.0664  0.001  5.2507   8.882   True\n",
      "     4      7  17.6921  0.001 11.8137 23.5705   True\n",
      "     5      6   4.9192  0.001  3.0996  6.7388   True\n",
      "     5      7  15.5449  0.001  9.6653 21.4245   True\n",
      "     6      7  10.6257  0.001  4.7102 16.5412   True\n",
      "----------------------------------------------------\n",
      "[1 2 3 4 5 6 7]\n"
     ]
    }
   ],
   "source": [
    "mc_HPW = MultiComparison(base3['HoursPerWeek'],base3['LeagueIndex'])\n",
    "result_HPW = mc_HPW.tukeyhsd()\n",
    "\n",
    "print(result_HPW)\n",
    "print(mc_HPW.groupsunique)"
   ]
  },
  {
   "cell_type": "markdown",
   "metadata": {},
   "source": [
    "Keep null on: Bronze-Silver, Bronze-Gold, Bronze-Platinum, Silver-Gold, Silver-Platinum, Gold-Platnium (i.e. no difference between the first 4 levels)"
   ]
  },
  {
   "cell_type": "markdown",
   "metadata": {},
   "source": [
    "#### All on TotalHours"
   ]
  },
  {
   "cell_type": "code",
   "execution_count": 40,
   "metadata": {},
   "outputs": [
    {
     "data": {
      "text/plain": [
       "(47.088944399386186, 1.1188011029115706e-55)"
      ]
     },
     "execution_count": 40,
     "metadata": {},
     "output_type": "execute_result"
    }
   ],
   "source": [
    "f_TH, p_TH = stats.f_oneway(base3[base3['LeagueIndex']==1].TotalHours,\n",
    "                              base3[base3['LeagueIndex']==2].TotalHours,\n",
    "                              base3[base3['LeagueIndex']==3].TotalHours,\n",
    "                              base3[base3['LeagueIndex']==4].TotalHours,\n",
    "                              base3[base3['LeagueIndex']==5].TotalHours,\n",
    "                              base3[base3['LeagueIndex']==6].TotalHours,\n",
    "                              base3[base3['LeagueIndex']==7].TotalHours\n",
    "                             )\n",
    "f_TH, p_TH"
   ]
  },
  {
   "cell_type": "markdown",
   "metadata": {},
   "source": [
    "will expect to keep some nulls"
   ]
  },
  {
   "cell_type": "code",
   "execution_count": 41,
   "metadata": {},
   "outputs": [
    {
     "name": "stdout",
     "output_type": "stream",
     "text": [
      "   Multiple Comparison of Means - Tukey HSD, FWER=0.05   \n",
      "=========================================================\n",
      "group1 group2  meandiff p-adj    lower     upper   reject\n",
      "---------------------------------------------------------\n",
      "     1      2    66.108    0.9 -163.0124  295.2285  False\n",
      "     1      3  228.4908 0.0286   13.6228  443.3588   True\n",
      "     1      4   322.705  0.001  115.8782  529.5317   True\n",
      "     1      5  516.3837  0.001   309.382  723.3855   True\n",
      "     1      6  723.1046  0.001    510.97  935.2392   True\n",
      "     1      7 1315.7274  0.001  864.1482 1767.3065   True\n",
      "     2      3  162.3828 0.0609   -3.8887  328.6543  False\n",
      "     2      4  256.5969  0.001  100.8559   412.338   True\n",
      "     2      5  450.2757  0.001  294.3024   606.249   True\n",
      "     2      6  656.9966  0.001  494.2728  819.7204   True\n",
      "     2      7 1249.6193  0.001  819.0364 1680.2023   True\n",
      "     3      4   94.2141 0.3684   -39.679  228.1072  False\n",
      "     3      5  287.8929  0.001  153.7297  422.0561   True\n",
      "     3      6  494.6138  0.001  352.6591  636.5684   True\n",
      "     3      7 1087.2365  0.001  664.0654 1510.4076   True\n",
      "     4      5  193.6788  0.001   72.8118  314.5457   True\n",
      "     4      6  400.3996  0.001  270.9386  529.8607   True\n",
      "     4      7  993.0224  0.001  573.8771 1412.1678   True\n",
      "     5      6  206.7209  0.001   76.9804  336.4613   True\n",
      "     5      7  799.3436  0.001  380.1119 1218.5754   True\n",
      "     6      7  592.6228  0.001   170.833 1014.4125   True\n",
      "---------------------------------------------------------\n",
      "[1 2 3 4 5 6 7]\n"
     ]
    }
   ],
   "source": [
    "mc_TH = MultiComparison(base3['TotalHours'],base3['LeagueIndex'])\n",
    "result_TH = mc_TH.tukeyhsd()\n",
    "\n",
    "print(result_TH)\n",
    "print(mc_TH.groupsunique)"
   ]
  },
  {
   "cell_type": "markdown",
   "metadata": {},
   "source": [
    "Keep null on: Bronze-Silver, Silver-Gold, Gold-Platinum"
   ]
  }
 ],
 "metadata": {
  "kernelspec": {
   "display_name": "Python 3",
   "language": "python",
   "name": "python3"
  },
  "language_info": {
   "codemirror_mode": {
    "name": "ipython",
    "version": 3
   },
   "file_extension": ".py",
   "mimetype": "text/x-python",
   "name": "python",
   "nbconvert_exporter": "python",
   "pygments_lexer": "ipython3",
   "version": "3.7.3"
  }
 },
 "nbformat": 4,
 "nbformat_minor": 4
}
