{
 "cells": [
  {
   "cell_type": "markdown",
   "metadata": {},
   "source": [
    "## Relax Data Science Challenge"
   ]
  },
  {
   "cell_type": "code",
   "execution_count": 169,
   "metadata": {},
   "outputs": [],
   "source": [
    "#imports\n",
    "import pandas as pd\n",
    "import numpy as np\n",
    "import matplotlib.pyplot as plt\n",
    "from datetime import datetime as dt\n",
    "\n",
    "from sklearn.model_selection import train_test_split\n",
    "from sklearn.metrics import fbeta_score\n",
    "import statsmodels.api as sm"
   ]
  },
  {
   "cell_type": "code",
   "execution_count": 85,
   "metadata": {},
   "outputs": [],
   "source": [
    "#read in datasets\n",
    "user_engagement = pd.read_csv('takehome_user_engagement.csv')\n",
    "users = pd.read_csv('takehome_users.csv', encoding='latin-1')"
   ]
  },
  {
   "cell_type": "code",
   "execution_count": 86,
   "metadata": {},
   "outputs": [],
   "source": [
    "users['creation_time'] = pd.to_datetime(users['creation_time'])\n",
    "users.last_session_creation_time.fillna(1588121471, inplace=True)\n",
    "users['last_session_creation_time'] = users['last_session_creation_time'].apply(dt.fromtimestamp)\n",
    "current = users['last_session_creation_time'][7]\n",
    "users['last_session_creation_time'] = users['last_session_creation_time'].apply(lambda x: 'NaN' if x==current else x)\n",
    "users.last_session_creation_time.fillna(users.creation_time, inplace=True)\n",
    "users.invited_by_user_id.fillna(0, inplace=True)"
   ]
  },
  {
   "cell_type": "code",
   "execution_count": 220,
   "metadata": {},
   "outputs": [],
   "source": [
    "user_engagement['time_stamp'] = pd.to_datetime(user_engagement['time_stamp'])\n",
    "user_engagement.loc[:,'new_time'] = user_engagement['time_stamp'].apply(dt.timestamp)\n",
    "user_engagement.loc[:,'diffs'] = user_engagement['new_time'].diff()\n",
    "user_engagement.loc[:,'within_week'] = user_engagement['diffs'].between(86400,604800)\n",
    "user_engagement.loc[:,'ww1'] = user_engagement['within_week'] + user_engagement['within_week'].shift()\n",
    "user_engagement.loc[:,'ww2'] = user_engagement['within_week'] + user_engagement['within_week'].shift(periods=-1)\n",
    "user_engagement.loc[:,'ww3'] = user_engagement['ww1'] + user_engagement['ww2']\n",
    "user_engagement.loc[:,'ww_final'] = user_engagement['ww3']>2\n",
    "user_list = user_engagement.groupby(by='user_id').sum().reset_index()\n",
    "user_list.loc[:,'Adopted'] = user_list['ww_final'].apply(lambda x: 'Adopted' if x>0 else 'Not-Adopted')\n",
    "user_list = user_list.drop(['visited','new_time','diffs','within_week','ww_final'], axis=1)"
   ]
  },
  {
   "cell_type": "code",
   "execution_count": 245,
   "metadata": {},
   "outputs": [],
   "source": [
    "final_df = users.merge(user_list, left_on='object_id', right_on='user_id').drop('user_id', axis=1)"
   ]
  },
  {
   "cell_type": "code",
   "execution_count": 247,
   "metadata": {},
   "outputs": [
    {
     "data": {
      "text/plain": [
       "Text(0.5, 1.0, 'How Accounts Are Created')"
      ]
     },
     "execution_count": 247,
     "metadata": {},
     "output_type": "execute_result"
    },
    {
     "data": {
      "image/png": "[encoded data removed]",
      "text/plain": [
       "<Figure size 432x288 with 1 Axes>"
      ]
     },
     "metadata": {
      "needs_background": "light"
     },
     "output_type": "display_data"
    }
   ],
   "source": [
    "plt.hist(final_df['creation_source'])\n",
    "plt.xticks(rotation=90)\n",
    "plt.title('How Accounts Are Created')"
   ]
  },
  {
   "cell_type": "code",
   "execution_count": 283,
   "metadata": {},
   "outputs": [
    {
     "data": {
      "text/plain": [
       "object_id                     7482\n",
       "creation_time                 7482\n",
       "name                          7482\n",
       "email                         7482\n",
       "creation_source               7482\n",
       "last_session_creation_time    7482\n",
       "opted_in_to_mailing_list      7482\n",
       "enabled_for_marketing_drip    7482\n",
       "org_id                        7482\n",
       "invited_by_user_id            7482\n",
       "Adopted                       7482\n",
       "dtype: int64"
      ]
     },
     "execution_count": 283,
     "metadata": {},
     "output_type": "execute_result"
    }
   ],
   "source": [
    "final_df[final_df['enabled_for_marketing_drip']==0].count()"
   ]
  },
  {
   "cell_type": "code",
   "execution_count": 256,
   "metadata": {},
   "outputs": [
    {
     "data": {
      "text/plain": [
       "Text(0.5, 1.0, 'Do They Receive Marketing Emails')"
      ]
     },
     "execution_count": 256,
     "metadata": {},
     "output_type": "execute_result"
    },
    {
     "data": {
      "image/png": "[encoded data removed]",
      "text/plain": [
       "<Figure size 432x288 with 1 Axes>"
      ]
     },
     "metadata": {
      "needs_background": "light"
     },
     "output_type": "display_data"
    }
   ],
   "source": [
    "plt.hist(final_df['opted_in_to_mailing_list'])\n",
    "plt.title('Do They Receive Marketing Emails')"
   ]
  },
  {
   "cell_type": "code",
   "execution_count": 257,
   "metadata": {},
   "outputs": [
    {
     "data": {
      "text/plain": [
       "Text(0.5, 1.0, 'Do They Have Marketing Enabled')"
      ]
     },
     "execution_count": 257,
     "metadata": {},
     "output_type": "execute_result"
    },
    {
     "data": {
      "image/png": "[encoded data removed]",
      "text/plain": [
       "<Figure size 432x288 with 1 Axes>"
      ]
     },
     "metadata": {
      "needs_background": "light"
     },
     "output_type": "display_data"
    }
   ],
   "source": [
    "plt.hist(final_df['enabled_for_marketing_drip'])\n",
    "plt.title('Do They Have Marketing Enabled')"
   ]
  },
  {
   "cell_type": "markdown",
   "metadata": {},
   "source": [
    "#### Model on appropriate variables"
   ]
  },
  {
   "cell_type": "code",
   "execution_count": 258,
   "metadata": {},
   "outputs": [],
   "source": [
    "final_to_model = final_df.drop(['object_id','name','email','org_id','invited_by_user_id'], axis=1)"
   ]
  },
  {
   "cell_type": "code",
   "execution_count": 259,
   "metadata": {},
   "outputs": [],
   "source": [
    "final_to_model.loc[:,'time_since_creation'] = final_to_model['last_session_creation_time']- final_to_model['creation_time']"
   ]
  },
  {
   "cell_type": "code",
   "execution_count": 260,
   "metadata": {},
   "outputs": [],
   "source": [
    "final_to_model['time_since_creation'] = final_to_model['time_since_creation'].apply(lambda x: x.days)"
   ]
  },
  {
   "cell_type": "code",
   "execution_count": 261,
   "metadata": {},
   "outputs": [],
   "source": [
    "fm = pd.get_dummies(final_to_model, columns=['creation_source'])"
   ]
  },
  {
   "cell_type": "code",
   "execution_count": 262,
   "metadata": {},
   "outputs": [],
   "source": [
    "df_X = fm.drop(['Adopted','creation_time','last_session_creation_time'], axis=1)\n",
    "df_X = df_X.replace(-1,0)\n",
    "df_y = fm.Adopted\n",
    "#cat_dtype = pd.api.types.CategoricalDtype(categories=['Not-Adopted','Adopted'], ordered=True)\n",
    "df_y = df_y.astype('category')\n",
    "df_y = df_y.cat.codes"
   ]
  },
  {
   "cell_type": "code",
   "execution_count": 264,
   "metadata": {},
   "outputs": [],
   "source": [
    "train_X, test_X, train_y, test_y = train_test_split(df_X,df_y, random_state=0)"
   ]
  },
  {
   "cell_type": "code",
   "execution_count": 265,
   "metadata": {},
   "outputs": [
    {
     "name": "stderr",
     "output_type": "stream",
     "text": [
      "C:\\Users\\sagun\\Anaconda3\\lib\\site-packages\\pandas\\core\\indexing.py:543: SettingWithCopyWarning: \n",
      "A value is trying to be set on a copy of a slice from a DataFrame.\n",
      "Try using .loc[row_indexer,col_indexer] = value instead\n",
      "\n",
      "See the caveats in the documentation: http://pandas.pydata.org/pandas-docs/stable/indexing.html#indexing-view-versus-copy\n",
      "  self.obj[item] = s\n",
      "C:\\Users\\sagun\\Anaconda3\\lib\\site-packages\\pandas\\core\\indexing.py:543: SettingWithCopyWarning: \n",
      "A value is trying to be set on a copy of a slice from a DataFrame.\n",
      "Try using .loc[row_indexer,col_indexer] = value instead\n",
      "\n",
      "See the caveats in the documentation: http://pandas.pydata.org/pandas-docs/stable/indexing.html#indexing-view-versus-copy\n",
      "  self.obj[item] = s\n",
      "C:\\Users\\sagun\\Anaconda3\\lib\\site-packages\\pandas\\core\\indexing.py:543: SettingWithCopyWarning: \n",
      "A value is trying to be set on a copy of a slice from a DataFrame.\n",
      "Try using .loc[row_indexer,col_indexer] = value instead\n",
      "\n",
      "See the caveats in the documentation: http://pandas.pydata.org/pandas-docs/stable/indexing.html#indexing-view-versus-copy\n",
      "  self.obj[item] = s\n",
      "C:\\Users\\sagun\\Anaconda3\\lib\\site-packages\\pandas\\core\\indexing.py:543: SettingWithCopyWarning: \n",
      "A value is trying to be set on a copy of a slice from a DataFrame.\n",
      "Try using .loc[row_indexer,col_indexer] = value instead\n",
      "\n",
      "See the caveats in the documentation: http://pandas.pydata.org/pandas-docs/stable/indexing.html#indexing-view-versus-copy\n",
      "  self.obj[item] = s\n",
      "C:\\Users\\sagun\\Anaconda3\\lib\\site-packages\\pandas\\core\\indexing.py:543: SettingWithCopyWarning: \n",
      "A value is trying to be set on a copy of a slice from a DataFrame.\n",
      "Try using .loc[row_indexer,col_indexer] = value instead\n",
      "\n",
      "See the caveats in the documentation: http://pandas.pydata.org/pandas-docs/stable/indexing.html#indexing-view-versus-copy\n",
      "  self.obj[item] = s\n",
      "C:\\Users\\sagun\\Anaconda3\\lib\\site-packages\\pandas\\core\\indexing.py:543: SettingWithCopyWarning: \n",
      "A value is trying to be set on a copy of a slice from a DataFrame.\n",
      "Try using .loc[row_indexer,col_indexer] = value instead\n",
      "\n",
      "See the caveats in the documentation: http://pandas.pydata.org/pandas-docs/stable/indexing.html#indexing-view-versus-copy\n",
      "  self.obj[item] = s\n"
     ]
    }
   ],
   "source": [
    "col_names = train_X.columns\n",
    "for col in col_names:\n",
    "    col_mean = train_X[col].mean()\n",
    "    col_std = train_X[col].std()\n",
    "    train_X.loc[:,col] = train_X[col].apply(lambda x: (x-col_mean)/col_std)\n",
    "    test_X.loc[:,col] = test_X[col].apply(lambda x: (x-col_mean)/col_std)"
   ]
  },
  {
   "cell_type": "code",
   "execution_count": 266,
   "metadata": {},
   "outputs": [],
   "source": [
    "reg = sm.Logit(endog=train_y, exog=train_X)"
   ]
  },
  {
   "cell_type": "code",
   "execution_count": 267,
   "metadata": {},
   "outputs": [
    {
     "name": "stdout",
     "output_type": "stream",
     "text": [
      "Optimization terminated successfully.\n",
      "         Current function value: 0.118063\n",
      "         Iterations 11\n"
     ]
    }
   ],
   "source": [
    "result = reg.fit()"
   ]
  },
  {
   "cell_type": "code",
   "execution_count": 275,
   "metadata": {},
   "outputs": [],
   "source": [
    "pred = reg.predict(result.params, exog=test_X)"
   ]
  },
  {
   "cell_type": "code",
   "execution_count": 270,
   "metadata": {},
   "outputs": [
    {
     "name": "stderr",
     "output_type": "stream",
     "text": [
      "C:\\Users\\sagun\\Anaconda3\\lib\\site-packages\\statsmodels\\base\\model.py:1286: RuntimeWarning: invalid value encountered in sqrt\n",
      "  bse_ = np.sqrt(np.diag(self.cov_params()))\n",
      "C:\\Users\\sagun\\Anaconda3\\lib\\site-packages\\scipy\\stats\\_distn_infrastructure.py:877: RuntimeWarning: invalid value encountered in greater\n",
      "  return (self.a < x) & (x < self.b)\n",
      "C:\\Users\\sagun\\Anaconda3\\lib\\site-packages\\scipy\\stats\\_distn_infrastructure.py:877: RuntimeWarning: invalid value encountered in less\n",
      "  return (self.a < x) & (x < self.b)\n",
      "C:\\Users\\sagun\\Anaconda3\\lib\\site-packages\\scipy\\stats\\_distn_infrastructure.py:1831: RuntimeWarning: invalid value encountered in less_equal\n",
      "  cond2 = cond0 & (x <= self.a)\n"
     ]
    },
    {
     "data": {
      "text/html": [
       "<table class=\"simpletable\">\n",
       "<caption>Logit Regression Results</caption>\n",
       "<tr>\n",
       "  <th>Dep. Variable:</th>           <td>y</td>        <th>  No. Observations:  </th>  <td>  6617</td> \n",
       "</tr>\n",
       "<tr>\n",
       "  <th>Model:</th>                 <td>Logit</td>      <th>  Df Residuals:      </th>  <td>  6610</td> \n",
       "</tr>\n",
       "<tr>\n",
       "  <th>Method:</th>                 <td>MLE</td>       <th>  Df Model:          </th>  <td>     6</td> \n",
       "</tr>\n",
       "<tr>\n",
       "  <th>Date:</th>            <td>Thu, 30 Apr 2020</td> <th>  Pseudo R-squ.:     </th>  <td>0.7652</td> \n",
       "</tr>\n",
       "<tr>\n",
       "  <th>Time:</th>                <td>22:33:56</td>     <th>  Log-Likelihood:    </th> <td> -781.22</td>\n",
       "</tr>\n",
       "<tr>\n",
       "  <th>converged:</th>             <td>True</td>       <th>  LL-Null:           </th> <td> -3327.2</td>\n",
       "</tr>\n",
       "<tr>\n",
       "  <th>Covariance Type:</th>     <td>nonrobust</td>    <th>  LLR p-value:       </th>  <td> 0.000</td> \n",
       "</tr>\n",
       "</table>\n",
       "<table class=\"simpletable\">\n",
       "<tr>\n",
       "                   <td></td>                     <th>coef</th>     <th>std err</th>      <th>z</th>      <th>P>|z|</th>  <th>[0.025</th>    <th>0.975]</th>  \n",
       "</tr>\n",
       "<tr>\n",
       "  <th>opted_in_to_mailing_list</th>           <td>   -0.0384</td> <td>    0.083</td> <td>   -0.461</td> <td> 0.645</td> <td>   -0.202</td> <td>    0.125</td>\n",
       "</tr>\n",
       "<tr>\n",
       "  <th>enabled_for_marketing_drip</th>         <td>   -0.0520</td> <td>    0.080</td> <td>   -0.648</td> <td> 0.517</td> <td>   -0.209</td> <td>    0.105</td>\n",
       "</tr>\n",
       "<tr>\n",
       "  <th>time_since_creation</th>                <td>  -10.1353</td> <td>    0.250</td> <td>  -40.547</td> <td> 0.000</td> <td>  -10.625</td> <td>   -9.645</td>\n",
       "</tr>\n",
       "<tr>\n",
       "  <th>creation_source_GUEST_INVITE</th>       <td>   -0.0810</td> <td>      nan</td> <td>      nan</td> <td>   nan</td> <td>      nan</td> <td>      nan</td>\n",
       "</tr>\n",
       "<tr>\n",
       "  <th>creation_source_ORG_INVITE</th>         <td>   -0.0366</td> <td>      nan</td> <td>      nan</td> <td>   nan</td> <td>      nan</td> <td>      nan</td>\n",
       "</tr>\n",
       "<tr>\n",
       "  <th>creation_source_PERSONAL_PROJECTS</th>  <td>    0.0514</td> <td>      nan</td> <td>      nan</td> <td>   nan</td> <td>      nan</td> <td>      nan</td>\n",
       "</tr>\n",
       "<tr>\n",
       "  <th>creation_source_SIGNUP</th>             <td>    0.0031</td> <td>      nan</td> <td>      nan</td> <td>   nan</td> <td>      nan</td> <td>      nan</td>\n",
       "</tr>\n",
       "<tr>\n",
       "  <th>creation_source_SIGNUP_GOOGLE_AUTH</th> <td>    0.0897</td> <td>      nan</td> <td>      nan</td> <td>   nan</td> <td>      nan</td> <td>      nan</td>\n",
       "</tr>\n",
       "</table><br/><br/>Possibly complete quasi-separation: A fraction 0.11 of observations can be<br/>perfectly predicted. This might indicate that there is complete<br/>quasi-separation. In this case some parameters will not be identified."
      ],
      "text/plain": [
       "<class 'statsmodels.iolib.summary.Summary'>\n",
       "\"\"\"\n",
       "                           Logit Regression Results                           \n",
       "==============================================================================\n",
       "Dep. Variable:                      y   No. Observations:                 6617\n",
       "Model:                          Logit   Df Residuals:                     6610\n",
       "Method:                           MLE   Df Model:                            6\n",
       "Date:                Thu, 30 Apr 2020   Pseudo R-squ.:                  0.7652\n",
       "Time:                        22:33:56   Log-Likelihood:                -781.22\n",
       "converged:                       True   LL-Null:                       -3327.2\n",
       "Covariance Type:            nonrobust   LLR p-value:                     0.000\n",
       "======================================================================================================\n",
       "                                         coef    std err          z      P>|z|      [0.025      0.975]\n",
       "------------------------------------------------------------------------------------------------------\n",
       "opted_in_to_mailing_list              -0.0384      0.083     -0.461      0.645      -0.202       0.125\n",
       "enabled_for_marketing_drip            -0.0520      0.080     -0.648      0.517      -0.209       0.105\n",
       "time_since_creation                  -10.1353      0.250    -40.547      0.000     -10.625      -9.645\n",
       "creation_source_GUEST_INVITE          -0.0810        nan        nan        nan         nan         nan\n",
       "creation_source_ORG_INVITE            -0.0366        nan        nan        nan         nan         nan\n",
       "creation_source_PERSONAL_PROJECTS      0.0514        nan        nan        nan         nan         nan\n",
       "creation_source_SIGNUP                 0.0031        nan        nan        nan         nan         nan\n",
       "creation_source_SIGNUP_GOOGLE_AUTH     0.0897        nan        nan        nan         nan         nan\n",
       "======================================================================================================\n",
       "\n",
       "Possibly complete quasi-separation: A fraction 0.11 of observations can be\n",
       "perfectly predicted. This might indicate that there is complete\n",
       "quasi-separation. In this case some parameters will not be identified.\n",
       "\"\"\""
      ]
     },
     "execution_count": 270,
     "metadata": {},
     "output_type": "execute_result"
    }
   ],
   "source": [
    "result.summary()"
   ]
  },
  {
   "cell_type": "code",
   "execution_count": 278,
   "metadata": {},
   "outputs": [
    {
     "name": "stdout",
     "output_type": "stream",
     "text": [
      "Best Threshold is 0.48 with and fbeta of 0.9706301682349586\n"
     ]
    },
    {
     "name": "stderr",
     "output_type": "stream",
     "text": [
      "C:\\Users\\sagun\\Anaconda3\\lib\\site-packages\\sklearn\\metrics\\classification.py:1439: UndefinedMetricWarning: F-score is ill-defined and being set to 0.0 due to no true samples.\n",
      "  'recall', 'true', average, warn_for)\n"
     ]
    }
   ],
   "source": [
    "best_threshold = 0\n",
    "best_fbeta = 0\n",
    "df = pd.DataFrame(pred)\n",
    "threshold_list = np.arange(0,1.01, 0.01)\n",
    "for i in threshold_list:\n",
    "    Y_test_pred = df.applymap(lambda x: 1 if x>i else 0)\n",
    "    test_fbeta = fbeta_score(Y_test_pred, test_y, beta=1)\n",
    "    if test_fbeta > best_fbeta:\n",
    "        best_threshold = i\n",
    "        best_fbeta = test_fbeta\n",
    "print('Best Threshold is {0} with and fbeta of {1}'.format(best_threshold, best_fbeta))"
   ]
  }
 ],
 "metadata": {
  "kernelspec": {
   "display_name": "Python 3",
   "language": "python",
   "name": "python3"
  },
  "language_info": {
   "codemirror_mode": {
    "name": "ipython",
    "version": 3
   },
   "file_extension": ".py",
   "mimetype": "text/x-python",
   "name": "python",
   "nbconvert_exporter": "python",
   "pygments_lexer": "ipython3",
   "version": "3.7.3"
  }
 },
 "nbformat": 4,
 "nbformat_minor": 2
}
